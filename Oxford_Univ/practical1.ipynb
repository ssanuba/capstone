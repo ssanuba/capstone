{
 "cells": [
  {
   "cell_type": "markdown",
   "metadata": {},
   "source": [
    "## Practical 1: word2vec\n",
    "<p>Oxford CS - Deep NLP 2017<br>\n",
    "https://www.cs.ox.ac.uk/teaching/courses/2016-2017/dl/</p>\n",
    "<p>[Yannis Assael, Brendan Shillingford, Chris Dyer]</p>"
   ]
  },
  {
   "cell_type": "markdown",
   "metadata": {},
   "source": [
    "This practical is presented as an IPython Notebook, with the code written for recent versions of **Python 3**. The code in this practical will not work with Python 2 unless you modify it. If you are using your own Python installation, ensure you have a setup identical to that described in the installation shell script (which is intended for use with the department lab machines). We will be unable to support installation on personal machines due to time constraints, so please use the lab machines and the setup script if you are unfamiliar with how to install Anaconda.\n",
    "\n",
    "To execute a notebook cell, press `shift-enter`. The return value of the last command will be displayed, if it is not `None`.\n",
    "\n",
    "Potentially useful library documentation, references, and resources:\n",
    "\n",
    "* IPython notebooks: <https://ipython.org/ipython-doc/3/notebook/notebook.html#introduction>\n",
    "* Numpy numerical array library: <https://docs.scipy.org/doc/>\n",
    "* Gensim's word2vec: <https://radimrehurek.com/gensim/models/word2vec.html>\n",
    "* Bokeh interactive plots: <http://bokeh.pydata.org/en/latest/> (we provide plotting code here, but click the thumbnails for more examples to copy-paste)\n",
    "* scikit-learn ML library (aka `sklearn`): <http://scikit-learn.org/stable/documentation.html>\n",
    "* nltk NLP toolkit: <http://www.nltk.org/>\n",
    "* tutorial for processing xml in python using `lxml`: <http://lxml.de/tutorial.html> (we did this for you below, but in case you need it in the future)"
   ]
  },
  {
   "cell_type": "code",
   "execution_count": 1,
   "metadata": {
    "collapsed": true
   },
   "outputs": [],
   "source": [
    "import numpy as np\n",
    "import os\n",
    "from random import shuffle\n",
    "import re"
   ]
  },
  {
   "cell_type": "code",
   "execution_count": 2,
   "metadata": {},
   "outputs": [
    {
     "data": {
      "text/html": [
       "\n",
       "    <div class=\"bk-root\">\n",
       "        <a href=\"https://bokeh.pydata.org\" target=\"_blank\" class=\"bk-logo bk-logo-small bk-logo-notebook\"></a>\n",
       "        <span id=\"d4b351a0-aff8-4677-9d81-a83d9fbec002\">Loading BokehJS ...</span>\n",
       "    </div>"
      ]
     },
     "metadata": {},
     "output_type": "display_data"
    },
    {
     "data": {
      "application/javascript": [
       "\n",
       "(function(root) {\n",
       "  function now() {\n",
       "    return new Date();\n",
       "  }\n",
       "\n",
       "  var force = true;\n",
       "\n",
       "  if (typeof (root._bokeh_onload_callbacks) === \"undefined\" || force === true) {\n",
       "    root._bokeh_onload_callbacks = [];\n",
       "    root._bokeh_is_loading = undefined;\n",
       "  }\n",
       "\n",
       "  var JS_MIME_TYPE = 'application/javascript';\n",
       "  var HTML_MIME_TYPE = 'text/html';\n",
       "  var EXEC_MIME_TYPE = 'application/vnd.bokehjs_exec.v0+json';\n",
       "  var CLASS_NAME = 'output_bokeh rendered_html';\n",
       "\n",
       "  /**\n",
       "   * Render data to the DOM node\n",
       "   */\n",
       "  function render(props, node) {\n",
       "    var script = document.createElement(\"script\");\n",
       "    node.appendChild(script);\n",
       "  }\n",
       "\n",
       "  /**\n",
       "   * Handle when an output is cleared or removed\n",
       "   */\n",
       "  function handleClearOutput(event, handle) {\n",
       "    var cell = handle.cell;\n",
       "\n",
       "    var id = cell.output_area._bokeh_element_id;\n",
       "    var server_id = cell.output_area._bokeh_server_id;\n",
       "    // Clean up Bokeh references\n",
       "    if (id !== undefined) {\n",
       "      Bokeh.index[id].model.document.clear();\n",
       "      delete Bokeh.index[id];\n",
       "    }\n",
       "\n",
       "    if (server_id !== undefined) {\n",
       "      // Clean up Bokeh references\n",
       "      var cmd = \"from bokeh.io.state import curstate; print(curstate().uuid_to_server['\" + server_id + \"'].get_sessions()[0].document.roots[0]._id)\";\n",
       "      cell.notebook.kernel.execute(cmd, {\n",
       "        iopub: {\n",
       "          output: function(msg) {\n",
       "            var element_id = msg.content.text.trim();\n",
       "            Bokeh.index[element_id].model.document.clear();\n",
       "            delete Bokeh.index[element_id];\n",
       "          }\n",
       "        }\n",
       "      });\n",
       "      // Destroy server and session\n",
       "      var cmd = \"import bokeh.io.notebook as ion; ion.destroy_server('\" + server_id + \"')\";\n",
       "      cell.notebook.kernel.execute(cmd);\n",
       "    }\n",
       "  }\n",
       "\n",
       "  /**\n",
       "   * Handle when a new output is added\n",
       "   */\n",
       "  function handleAddOutput(event, handle) {\n",
       "    var output_area = handle.output_area;\n",
       "    var output = handle.output;\n",
       "\n",
       "    // limit handleAddOutput to display_data with EXEC_MIME_TYPE content only\n",
       "    if ((output.output_type != \"display_data\") || (!output.data.hasOwnProperty(EXEC_MIME_TYPE))) {\n",
       "      return\n",
       "    }\n",
       "\n",
       "    var toinsert = output_area.element.find(`.${CLASS_NAME.split(' ')[0]}`);\n",
       "\n",
       "    if (output.metadata[EXEC_MIME_TYPE][\"id\"] !== undefined) {\n",
       "      toinsert[0].firstChild.textContent = output.data[JS_MIME_TYPE];\n",
       "      // store reference to embed id on output_area\n",
       "      output_area._bokeh_element_id = output.metadata[EXEC_MIME_TYPE][\"id\"];\n",
       "    }\n",
       "    if (output.metadata[EXEC_MIME_TYPE][\"server_id\"] !== undefined) {\n",
       "      var bk_div = document.createElement(\"div\");\n",
       "      bk_div.innerHTML = output.data[HTML_MIME_TYPE];\n",
       "      var script_attrs = bk_div.children[0].attributes;\n",
       "      for (var i = 0; i < script_attrs.length; i++) {\n",
       "        toinsert[0].firstChild.setAttribute(script_attrs[i].name, script_attrs[i].value);\n",
       "      }\n",
       "      // store reference to server id on output_area\n",
       "      output_area._bokeh_server_id = output.metadata[EXEC_MIME_TYPE][\"server_id\"];\n",
       "    }\n",
       "  }\n",
       "\n",
       "  function register_renderer(events, OutputArea) {\n",
       "\n",
       "    function append_mime(data, metadata, element) {\n",
       "      // create a DOM node to render to\n",
       "      var toinsert = this.create_output_subarea(\n",
       "        metadata,\n",
       "        CLASS_NAME,\n",
       "        EXEC_MIME_TYPE\n",
       "      );\n",
       "      this.keyboard_manager.register_events(toinsert);\n",
       "      // Render to node\n",
       "      var props = {data: data, metadata: metadata[EXEC_MIME_TYPE]};\n",
       "      render(props, toinsert[0]);\n",
       "      element.append(toinsert);\n",
       "      return toinsert\n",
       "    }\n",
       "\n",
       "    /* Handle when an output is cleared or removed */\n",
       "    events.on('clear_output.CodeCell', handleClearOutput);\n",
       "    events.on('delete.Cell', handleClearOutput);\n",
       "\n",
       "    /* Handle when a new output is added */\n",
       "    events.on('output_added.OutputArea', handleAddOutput);\n",
       "\n",
       "    /**\n",
       "     * Register the mime type and append_mime function with output_area\n",
       "     */\n",
       "    OutputArea.prototype.register_mime_type(EXEC_MIME_TYPE, append_mime, {\n",
       "      /* Is output safe? */\n",
       "      safe: true,\n",
       "      /* Index of renderer in `output_area.display_order` */\n",
       "      index: 0\n",
       "    });\n",
       "  }\n",
       "\n",
       "  // register the mime type if in Jupyter Notebook environment and previously unregistered\n",
       "  if (root.Jupyter !== undefined) {\n",
       "    var events = require('base/js/events');\n",
       "    var OutputArea = require('notebook/js/outputarea').OutputArea;\n",
       "\n",
       "    if (OutputArea.prototype.mime_types().indexOf(EXEC_MIME_TYPE) == -1) {\n",
       "      register_renderer(events, OutputArea);\n",
       "    }\n",
       "  }\n",
       "\n",
       "  \n",
       "  if (typeof (root._bokeh_timeout) === \"undefined\" || force === true) {\n",
       "    root._bokeh_timeout = Date.now() + 5000;\n",
       "    root._bokeh_failed_load = false;\n",
       "  }\n",
       "\n",
       "  var NB_LOAD_WARNING = {'data': {'text/html':\n",
       "     \"<div style='background-color: #fdd'>\\n\"+\n",
       "     \"<p>\\n\"+\n",
       "     \"BokehJS does not appear to have successfully loaded. If loading BokehJS from CDN, this \\n\"+\n",
       "     \"may be due to a slow or bad network connection. Possible fixes:\\n\"+\n",
       "     \"</p>\\n\"+\n",
       "     \"<ul>\\n\"+\n",
       "     \"<li>re-rerun `output_notebook()` to attempt to load from CDN again, or</li>\\n\"+\n",
       "     \"<li>use INLINE resources instead, as so:</li>\\n\"+\n",
       "     \"</ul>\\n\"+\n",
       "     \"<code>\\n\"+\n",
       "     \"from bokeh.resources import INLINE\\n\"+\n",
       "     \"output_notebook(resources=INLINE)\\n\"+\n",
       "     \"</code>\\n\"+\n",
       "     \"</div>\"}};\n",
       "\n",
       "  function display_loaded() {\n",
       "    var el = document.getElementById(\"d4b351a0-aff8-4677-9d81-a83d9fbec002\");\n",
       "    if (el != null) {\n",
       "      el.textContent = \"BokehJS is loading...\";\n",
       "    }\n",
       "    if (root.Bokeh !== undefined) {\n",
       "      if (el != null) {\n",
       "        el.textContent = \"BokehJS \" + root.Bokeh.version + \" successfully loaded.\";\n",
       "      }\n",
       "    } else if (Date.now() < root._bokeh_timeout) {\n",
       "      setTimeout(display_loaded, 100)\n",
       "    }\n",
       "  }\n",
       "\n",
       "\n",
       "  function run_callbacks() {\n",
       "    try {\n",
       "      root._bokeh_onload_callbacks.forEach(function(callback) { callback() });\n",
       "    }\n",
       "    finally {\n",
       "      delete root._bokeh_onload_callbacks\n",
       "    }\n",
       "    console.info(\"Bokeh: all callbacks have finished\");\n",
       "  }\n",
       "\n",
       "  function load_libs(js_urls, callback) {\n",
       "    root._bokeh_onload_callbacks.push(callback);\n",
       "    if (root._bokeh_is_loading > 0) {\n",
       "      console.log(\"Bokeh: BokehJS is being loaded, scheduling callback at\", now());\n",
       "      return null;\n",
       "    }\n",
       "    if (js_urls == null || js_urls.length === 0) {\n",
       "      run_callbacks();\n",
       "      return null;\n",
       "    }\n",
       "    console.log(\"Bokeh: BokehJS not loaded, scheduling load and callback at\", now());\n",
       "    root._bokeh_is_loading = js_urls.length;\n",
       "    for (var i = 0; i < js_urls.length; i++) {\n",
       "      var url = js_urls[i];\n",
       "      var s = document.createElement('script');\n",
       "      s.src = url;\n",
       "      s.async = false;\n",
       "      s.onreadystatechange = s.onload = function() {\n",
       "        root._bokeh_is_loading--;\n",
       "        if (root._bokeh_is_loading === 0) {\n",
       "          console.log(\"Bokeh: all BokehJS libraries loaded\");\n",
       "          run_callbacks()\n",
       "        }\n",
       "      };\n",
       "      s.onerror = function() {\n",
       "        console.warn(\"failed to load library \" + url);\n",
       "      };\n",
       "      console.log(\"Bokeh: injecting script tag for BokehJS library: \", url);\n",
       "      document.getElementsByTagName(\"head\")[0].appendChild(s);\n",
       "    }\n",
       "  };var element = document.getElementById(\"d4b351a0-aff8-4677-9d81-a83d9fbec002\");\n",
       "  if (element == null) {\n",
       "    console.log(\"Bokeh: ERROR: autoload.js configured with elementid 'd4b351a0-aff8-4677-9d81-a83d9fbec002' but no matching script tag was found. \")\n",
       "    return false;\n",
       "  }\n",
       "\n",
       "  var js_urls = [\"https://cdn.pydata.org/bokeh/release/bokeh-0.12.10.min.js\", \"https://cdn.pydata.org/bokeh/release/bokeh-widgets-0.12.10.min.js\", \"https://cdn.pydata.org/bokeh/release/bokeh-tables-0.12.10.min.js\", \"https://cdn.pydata.org/bokeh/release/bokeh-gl-0.12.10.min.js\"];\n",
       "\n",
       "  var inline_js = [\n",
       "    function(Bokeh) {\n",
       "      Bokeh.set_log_level(\"info\");\n",
       "    },\n",
       "    \n",
       "    function(Bokeh) {\n",
       "      \n",
       "    },\n",
       "    function(Bokeh) {\n",
       "      console.log(\"Bokeh: injecting CSS: https://cdn.pydata.org/bokeh/release/bokeh-0.12.10.min.css\");\n",
       "      Bokeh.embed.inject_css(\"https://cdn.pydata.org/bokeh/release/bokeh-0.12.10.min.css\");\n",
       "      console.log(\"Bokeh: injecting CSS: https://cdn.pydata.org/bokeh/release/bokeh-widgets-0.12.10.min.css\");\n",
       "      Bokeh.embed.inject_css(\"https://cdn.pydata.org/bokeh/release/bokeh-widgets-0.12.10.min.css\");\n",
       "      console.log(\"Bokeh: injecting CSS: https://cdn.pydata.org/bokeh/release/bokeh-tables-0.12.10.min.css\");\n",
       "      Bokeh.embed.inject_css(\"https://cdn.pydata.org/bokeh/release/bokeh-tables-0.12.10.min.css\");\n",
       "    }\n",
       "  ];\n",
       "\n",
       "  function run_inline_js() {\n",
       "    \n",
       "    if ((root.Bokeh !== undefined) || (force === true)) {\n",
       "      for (var i = 0; i < inline_js.length; i++) {\n",
       "        inline_js[i].call(root, root.Bokeh);\n",
       "      }if (force === true) {\n",
       "        display_loaded();\n",
       "      }} else if (Date.now() < root._bokeh_timeout) {\n",
       "      setTimeout(run_inline_js, 100);\n",
       "    } else if (!root._bokeh_failed_load) {\n",
       "      console.log(\"Bokeh: BokehJS failed to load within specified timeout.\");\n",
       "      root._bokeh_failed_load = true;\n",
       "    } else if (force !== true) {\n",
       "      var cell = $(document.getElementById(\"d4b351a0-aff8-4677-9d81-a83d9fbec002\")).parents('.cell').data().cell;\n",
       "      cell.output_area.append_execute_result(NB_LOAD_WARNING)\n",
       "    }\n",
       "\n",
       "  }\n",
       "\n",
       "  if (root._bokeh_is_loading === 0) {\n",
       "    console.log(\"Bokeh: BokehJS loaded, going straight to plotting\");\n",
       "    run_inline_js();\n",
       "  } else {\n",
       "    load_libs(js_urls, function() {\n",
       "      console.log(\"Bokeh: BokehJS plotting callback run at\", now());\n",
       "      run_inline_js();\n",
       "    });\n",
       "  }\n",
       "}(window));"
      ],
      "application/vnd.bokehjs_load.v0+json": "\n(function(root) {\n  function now() {\n    return new Date();\n  }\n\n  var force = true;\n\n  if (typeof (root._bokeh_onload_callbacks) === \"undefined\" || force === true) {\n    root._bokeh_onload_callbacks = [];\n    root._bokeh_is_loading = undefined;\n  }\n\n  \n\n  \n  if (typeof (root._bokeh_timeout) === \"undefined\" || force === true) {\n    root._bokeh_timeout = Date.now() + 5000;\n    root._bokeh_failed_load = false;\n  }\n\n  var NB_LOAD_WARNING = {'data': {'text/html':\n     \"<div style='background-color: #fdd'>\\n\"+\n     \"<p>\\n\"+\n     \"BokehJS does not appear to have successfully loaded. If loading BokehJS from CDN, this \\n\"+\n     \"may be due to a slow or bad network connection. Possible fixes:\\n\"+\n     \"</p>\\n\"+\n     \"<ul>\\n\"+\n     \"<li>re-rerun `output_notebook()` to attempt to load from CDN again, or</li>\\n\"+\n     \"<li>use INLINE resources instead, as so:</li>\\n\"+\n     \"</ul>\\n\"+\n     \"<code>\\n\"+\n     \"from bokeh.resources import INLINE\\n\"+\n     \"output_notebook(resources=INLINE)\\n\"+\n     \"</code>\\n\"+\n     \"</div>\"}};\n\n  function display_loaded() {\n    var el = document.getElementById(\"d4b351a0-aff8-4677-9d81-a83d9fbec002\");\n    if (el != null) {\n      el.textContent = \"BokehJS is loading...\";\n    }\n    if (root.Bokeh !== undefined) {\n      if (el != null) {\n        el.textContent = \"BokehJS \" + root.Bokeh.version + \" successfully loaded.\";\n      }\n    } else if (Date.now() < root._bokeh_timeout) {\n      setTimeout(display_loaded, 100)\n    }\n  }\n\n\n  function run_callbacks() {\n    try {\n      root._bokeh_onload_callbacks.forEach(function(callback) { callback() });\n    }\n    finally {\n      delete root._bokeh_onload_callbacks\n    }\n    console.info(\"Bokeh: all callbacks have finished\");\n  }\n\n  function load_libs(js_urls, callback) {\n    root._bokeh_onload_callbacks.push(callback);\n    if (root._bokeh_is_loading > 0) {\n      console.log(\"Bokeh: BokehJS is being loaded, scheduling callback at\", now());\n      return null;\n    }\n    if (js_urls == null || js_urls.length === 0) {\n      run_callbacks();\n      return null;\n    }\n    console.log(\"Bokeh: BokehJS not loaded, scheduling load and callback at\", now());\n    root._bokeh_is_loading = js_urls.length;\n    for (var i = 0; i < js_urls.length; i++) {\n      var url = js_urls[i];\n      var s = document.createElement('script');\n      s.src = url;\n      s.async = false;\n      s.onreadystatechange = s.onload = function() {\n        root._bokeh_is_loading--;\n        if (root._bokeh_is_loading === 0) {\n          console.log(\"Bokeh: all BokehJS libraries loaded\");\n          run_callbacks()\n        }\n      };\n      s.onerror = function() {\n        console.warn(\"failed to load library \" + url);\n      };\n      console.log(\"Bokeh: injecting script tag for BokehJS library: \", url);\n      document.getElementsByTagName(\"head\")[0].appendChild(s);\n    }\n  };var element = document.getElementById(\"d4b351a0-aff8-4677-9d81-a83d9fbec002\");\n  if (element == null) {\n    console.log(\"Bokeh: ERROR: autoload.js configured with elementid 'd4b351a0-aff8-4677-9d81-a83d9fbec002' but no matching script tag was found. \")\n    return false;\n  }\n\n  var js_urls = [\"https://cdn.pydata.org/bokeh/release/bokeh-0.12.10.min.js\", \"https://cdn.pydata.org/bokeh/release/bokeh-widgets-0.12.10.min.js\", \"https://cdn.pydata.org/bokeh/release/bokeh-tables-0.12.10.min.js\", \"https://cdn.pydata.org/bokeh/release/bokeh-gl-0.12.10.min.js\"];\n\n  var inline_js = [\n    function(Bokeh) {\n      Bokeh.set_log_level(\"info\");\n    },\n    \n    function(Bokeh) {\n      \n    },\n    function(Bokeh) {\n      console.log(\"Bokeh: injecting CSS: https://cdn.pydata.org/bokeh/release/bokeh-0.12.10.min.css\");\n      Bokeh.embed.inject_css(\"https://cdn.pydata.org/bokeh/release/bokeh-0.12.10.min.css\");\n      console.log(\"Bokeh: injecting CSS: https://cdn.pydata.org/bokeh/release/bokeh-widgets-0.12.10.min.css\");\n      Bokeh.embed.inject_css(\"https://cdn.pydata.org/bokeh/release/bokeh-widgets-0.12.10.min.css\");\n      console.log(\"Bokeh: injecting CSS: https://cdn.pydata.org/bokeh/release/bokeh-tables-0.12.10.min.css\");\n      Bokeh.embed.inject_css(\"https://cdn.pydata.org/bokeh/release/bokeh-tables-0.12.10.min.css\");\n    }\n  ];\n\n  function run_inline_js() {\n    \n    if ((root.Bokeh !== undefined) || (force === true)) {\n      for (var i = 0; i < inline_js.length; i++) {\n        inline_js[i].call(root, root.Bokeh);\n      }if (force === true) {\n        display_loaded();\n      }} else if (Date.now() < root._bokeh_timeout) {\n      setTimeout(run_inline_js, 100);\n    } else if (!root._bokeh_failed_load) {\n      console.log(\"Bokeh: BokehJS failed to load within specified timeout.\");\n      root._bokeh_failed_load = true;\n    } else if (force !== true) {\n      var cell = $(document.getElementById(\"d4b351a0-aff8-4677-9d81-a83d9fbec002\")).parents('.cell').data().cell;\n      cell.output_area.append_execute_result(NB_LOAD_WARNING)\n    }\n\n  }\n\n  if (root._bokeh_is_loading === 0) {\n    console.log(\"Bokeh: BokehJS loaded, going straight to plotting\");\n    run_inline_js();\n  } else {\n    load_libs(js_urls, function() {\n      console.log(\"Bokeh: BokehJS plotting callback run at\", now());\n      run_inline_js();\n    });\n  }\n}(window));"
     },
     "metadata": {},
     "output_type": "display_data"
    }
   ],
   "source": [
    "from bokeh.models import ColumnDataSource, LabelSet\n",
    "from bokeh.plotting import figure, show, output_file\n",
    "from bokeh.io import output_notebook\n",
    "output_notebook()"
   ]
  },
  {
   "cell_type": "markdown",
   "metadata": {},
   "source": [
    "### Part 0: Download the TED dataset"
   ]
  },
  {
   "cell_type": "code",
   "execution_count": 3,
   "metadata": {
    "collapsed": true
   },
   "outputs": [],
   "source": [
    "import urllib.request\n",
    "import zipfile\n",
    "import lxml.etree"
   ]
  },
  {
   "cell_type": "code",
   "execution_count": 4,
   "metadata": {
    "collapsed": true
   },
   "outputs": [],
   "source": [
    "# Download the dataset if it's not already there: this may take a minute as it is 75MB\n",
    "if not os.path.isfile('ted_en-20160408.zip'):\n",
    "    urllib.request.urlretrieve(\"https://wit3.fbk.eu/get.php?path=XML_releases/xml/ted_en-20160408.zip&filename=ted_en-20160408.zip\", filename=\"ted_en-20160408.zip\")"
   ]
  },
  {
   "cell_type": "code",
   "execution_count": 5,
   "metadata": {
    "collapsed": true
   },
   "outputs": [],
   "source": [
    "# For now, we're only interested in the subtitle text, so let's extract that from the XML:\n",
    "with zipfile.ZipFile('ted_en-20160408.zip', 'r') as z:\n",
    "    doc = lxml.etree.parse(z.open('ted_en-20160408.xml', 'r'))\n",
    "input_text = '\\n'.join(doc.xpath('//content/text()'))\n",
    "del doc"
   ]
  },
  {
   "cell_type": "markdown",
   "metadata": {},
   "source": [
    "### Part 1: Preprocessing\n",
    "\n",
    "In this part, we attempt to clean up the raw subtitles a bit, so that we get only sentences. The following substring shows examples of what we're trying to get rid of. Since it's hard to define precisely what we want to get rid of, we'll just use some simple heuristics."
   ]
  },
  {
   "cell_type": "code",
   "execution_count": 6,
   "metadata": {
    "scrolled": false
   },
   "outputs": [
    {
     "data": {
      "text/plain": [
       "' baby does.\\n(Video) Hyowon Gweon: See this? (Ball squeaks) Did you see that? (Ball squeaks) Cool. See this one? (Ball squeaks) Wow.\\nLaura Schulz: Told you. (Laughs)\\n(Vide'"
      ]
     },
     "execution_count": 6,
     "metadata": {},
     "output_type": "execute_result"
    }
   ],
   "source": [
    "i = input_text.find(\"Hyowon Gweon: See this?\")\n",
    "input_text[i-20:i+150]"
   ]
  },
  {
   "cell_type": "markdown",
   "metadata": {},
   "source": [
    "Let's start by removing all parenthesized strings using a regex:"
   ]
  },
  {
   "cell_type": "code",
   "execution_count": 7,
   "metadata": {
    "collapsed": true
   },
   "outputs": [],
   "source": [
    "input_text_noparens = re.sub(r'\\([^)]*\\)', '', input_text)"
   ]
  },
  {
   "cell_type": "markdown",
   "metadata": {},
   "source": [
    "We can verify the same location in the text is now clean as follows. We won't worry about the irregular spaces since we'll later split the text into sentences and tokenize it anyway."
   ]
  },
  {
   "cell_type": "code",
   "execution_count": 8,
   "metadata": {},
   "outputs": [
    {
     "data": {
      "text/plain": [
       "\"hat the baby does.\\n Hyowon Gweon: See this?  Did you see that?  Cool. See this one?  Wow.\\nLaura Schulz: Told you. \\n HG: See this one?  Hey Clara, this one's for you. You \""
      ]
     },
     "execution_count": 8,
     "metadata": {},
     "output_type": "execute_result"
    }
   ],
   "source": [
    "i = input_text_noparens.find(\"Hyowon Gweon: See this?\")\n",
    "input_text_noparens[i-20:i+150]"
   ]
  },
  {
   "cell_type": "markdown",
   "metadata": {},
   "source": [
    "Now, let's attempt to remove speakers' names that occur at the beginning of a line, by deleting pieces of the form \"`<up to 20 characters>:`\", as shown in this example. Of course, this is an imperfect heuristic. "
   ]
  },
  {
   "cell_type": "code",
   "execution_count": 9,
   "metadata": {},
   "outputs": [
    {
     "data": {
      "text/plain": [
       "[\"Here are two reasons companies fail: they only do more of the same, or they only do what's new\",\n",
       " 'To me the real, real solution to quality growth is figuring out the balance between two activities: exploration and exploitation',\n",
       " ' Both are necessary, but it can be too much of a good thing',\n",
       " 'Consider Facit',\n",
       " \" I'm actually old enough to remember them\"]"
      ]
     },
     "execution_count": 9,
     "metadata": {},
     "output_type": "execute_result"
    }
   ],
   "source": [
    "sentences_strings_ted = []\n",
    "for line in input_text_noparens.split('\\n'):\n",
    "    m = re.match(r'^(?:(?P<precolon>[^:]{,20}):)?(?P<postcolon>.*)$', line)\n",
    "    sentences_strings_ted.extend(sent for sent in m.groupdict()['postcolon'].split('.') if sent)\n",
    "\n",
    "# Uncomment if you need to save some RAM: these strings are about 50MB.\n",
    "# del input_text, input_text_noparens\n",
    "\n",
    "# Let's view the first few:\n",
    "sentences_strings_ted[:5]"
   ]
  },
  {
   "cell_type": "markdown",
   "metadata": {},
   "source": [
    "Now that we have sentences, we're ready to tokenize each of them into words. This tokenization is imperfect, of course. For instance, how many tokens is \"can't\", and where/how do we split it? We'll take the simplest naive approach of splitting on spaces. Before splitting, we remove non-alphanumeric characters, such as punctuation. You may want to consider the following question: why do we replace these characters with spaces rather than deleting them? Think of a case where this yields a different answer."
   ]
  },
  {
   "cell_type": "code",
   "execution_count": 10,
   "metadata": {
    "collapsed": true
   },
   "outputs": [],
   "source": [
    "sentences_ted = []\n",
    "for sent_str in sentences_strings_ted:\n",
    "    tokens = re.sub(r\"[^a-z0-9]+\", \" \", sent_str.lower()).split()\n",
    "    sentences_ted.append(tokens)"
   ]
  },
  {
   "cell_type": "markdown",
   "metadata": {},
   "source": [
    "Two sample processed sentences:"
   ]
  },
  {
   "cell_type": "code",
   "execution_count": 11,
   "metadata": {},
   "outputs": [
    {
     "data": {
      "text/plain": [
       "266694"
      ]
     },
     "execution_count": 11,
     "metadata": {},
     "output_type": "execute_result"
    }
   ],
   "source": [
    "len(sentences_ted)"
   ]
  },
  {
   "cell_type": "code",
   "execution_count": 12,
   "metadata": {},
   "outputs": [
    {
     "name": "stdout",
     "output_type": "stream",
     "text": [
      "['here', 'are', 'two', 'reasons', 'companies', 'fail', 'they', 'only', 'do', 'more', 'of', 'the', 'same', 'or', 'they', 'only', 'do', 'what', 's', 'new']\n",
      "['to', 'me', 'the', 'real', 'real', 'solution', 'to', 'quality', 'growth', 'is', 'figuring', 'out', 'the', 'balance', 'between', 'two', 'activities', 'exploration', 'and', 'exploitation']\n"
     ]
    }
   ],
   "source": [
    "print(sentences_ted[0])\n",
    "print(sentences_ted[1])"
   ]
  },
  {
   "cell_type": "markdown",
   "metadata": {},
   "source": [
    "### Part 2: Word Frequencies"
   ]
  },
  {
   "cell_type": "markdown",
   "metadata": {},
   "source": [
    "If you store the counts of the top 1000 words in a list called `counts_ted_top1000`, the code below will plot the histogram requested in the writeup."
   ]
  },
  {
   "cell_type": "code",
   "execution_count": 13,
   "metadata": {
    "collapsed": true,
    "scrolled": true
   },
   "outputs": [],
   "source": [
    "from collections import Counter\n",
    "count = Counter()\n",
    "for sentence in sentences_ted:\n",
    "    for word in sentence:\n",
    "        count[word] += 1\n",
    "# print(count)\n",
    "words_top_ted = [token_count_pair[0] for token_count_pair in count.most_common(1000)]\n",
    "# print(words_top_ted)\n",
    "counts_ted_top1000 = [token_count_pair[1] for token_count_pair in count.most_common(1000)]\n",
    "# print(counts_ted_top1000)"
   ]
  },
  {
   "cell_type": "markdown",
   "metadata": {},
   "source": [
    "Plot distribution of top-1000 words"
   ]
  },
  {
   "cell_type": "code",
   "execution_count": 14,
   "metadata": {},
   "outputs": [
    {
     "data": {
      "text/html": [
       "\n",
       "<div class=\"bk-root\">\n",
       "    <div class=\"bk-plotdiv\" id=\"316bbc25-6a5c-43f4-b2a9-668e6630bca8\"></div>\n",
       "</div>"
      ]
     },
     "metadata": {},
     "output_type": "display_data"
    },
    {
     "data": {
      "application/javascript": [
       "(function(root) {\n",
       "  function embed_document(root) {\n",
       "    var docs_json = {\"7f1ba0f9-7231-4a57-8155-80ffce6c512b\":{\"roots\":{\"references\":[{\"attributes\":{},\"id\":\"1aedbdba-33c6-46f0-a565-b78d7ed6c8ef\",\"type\":\"LinearScale\"},{\"attributes\":{},\"id\":\"f57b4348-8108-4375-be71-399b838f5e4f\",\"type\":\"LinearScale\"},{\"attributes\":{\"formatter\":{\"id\":\"eb5c0088-fa85-4fea-a00e-459fa7b9fde2\",\"type\":\"BasicTickFormatter\"},\"plot\":{\"id\":\"ef9b351c-e449-4eb0-a232-f4f7822025cb\",\"subtype\":\"Figure\",\"type\":\"Plot\"},\"ticker\":{\"id\":\"0cf85c7b-fa58-4297-8b01-a21a7f4beed1\",\"type\":\"BasicTicker\"}},\"id\":\"d302f403-73ce-49d2-9245-fa5edc3feea5\",\"type\":\"LinearAxis\"},{\"attributes\":{},\"id\":\"0cf85c7b-fa58-4297-8b01-a21a7f4beed1\",\"type\":\"BasicTicker\"},{\"attributes\":{},\"id\":\"4409f79c-bd95-45a4-8110-8b9a3503a847\",\"type\":\"BasicTickFormatter\"},{\"attributes\":{\"plot\":{\"id\":\"ef9b351c-e449-4eb0-a232-f4f7822025cb\",\"subtype\":\"Figure\",\"type\":\"Plot\"},\"ticker\":{\"id\":\"0cf85c7b-fa58-4297-8b01-a21a7f4beed1\",\"type\":\"BasicTicker\"}},\"id\":\"a95c827c-5cfa-4771-b3cf-43fde3e3d66b\",\"type\":\"Grid\"},{\"attributes\":{\"formatter\":{\"id\":\"4409f79c-bd95-45a4-8110-8b9a3503a847\",\"type\":\"BasicTickFormatter\"},\"plot\":{\"id\":\"ef9b351c-e449-4eb0-a232-f4f7822025cb\",\"subtype\":\"Figure\",\"type\":\"Plot\"},\"ticker\":{\"id\":\"a84b0065-5923-41ed-b4ef-6021c925db2f\",\"type\":\"BasicTicker\"}},\"id\":\"f03ef3ca-bc8d-437b-9d36-f92073f2c7be\",\"type\":\"LinearAxis\"},{\"attributes\":{\"source\":{\"id\":\"24fd193b-e71f-42b3-8f36-de9951b8efd4\",\"type\":\"ColumnDataSource\"}},\"id\":\"90b8a97e-10db-45d4-b921-edd088e387a5\",\"type\":\"CDSView\"},{\"attributes\":{},\"id\":\"eb5c0088-fa85-4fea-a00e-459fa7b9fde2\",\"type\":\"BasicTickFormatter\"},{\"attributes\":{},\"id\":\"a84b0065-5923-41ed-b4ef-6021c925db2f\",\"type\":\"BasicTicker\"},{\"attributes\":{\"dimension\":1,\"plot\":{\"id\":\"ef9b351c-e449-4eb0-a232-f4f7822025cb\",\"subtype\":\"Figure\",\"type\":\"Plot\"},\"ticker\":{\"id\":\"a84b0065-5923-41ed-b4ef-6021c925db2f\",\"type\":\"BasicTicker\"}},\"id\":\"ebbe9bcf-9ea4-4232-83c8-78b026e5e9ad\",\"type\":\"Grid\"},{\"attributes\":{\"active_drag\":\"auto\",\"active_inspect\":\"auto\",\"active_scroll\":\"auto\",\"active_tap\":\"auto\",\"tools\":[{\"id\":\"4f003696-f017-4455-b9a0-65fded60a7af\",\"type\":\"PanTool\"},{\"id\":\"efd4cf6f-c12a-4212-b18d-be87c50a3e5f\",\"type\":\"WheelZoomTool\"},{\"id\":\"f4931b8d-e5fc-4001-8b35-9af87298f09b\",\"type\":\"ResetTool\"},{\"id\":\"b56953ea-bb37-4a2e-b3e5-1e7272be48bf\",\"type\":\"SaveTool\"}]},\"id\":\"4ba195b2-b660-430f-85ac-c67fa3cfc58f\",\"type\":\"Toolbar\"},{\"attributes\":{},\"id\":\"efd4cf6f-c12a-4212-b18d-be87c50a3e5f\",\"type\":\"WheelZoomTool\"},{\"attributes\":{\"bottom\":{\"value\":0},\"fill_color\":{\"value\":\"#1f77b4\"},\"left\":{\"field\":\"left\"},\"line_color\":{\"value\":\"#555555\"},\"right\":{\"field\":\"right\"},\"top\":{\"field\":\"top\"}},\"id\":\"ec5b9038-53e2-44b9-a2de-03ac1f9be2b9\",\"type\":\"Quad\"},{\"attributes\":{},\"id\":\"4f003696-f017-4455-b9a0-65fded60a7af\",\"type\":\"PanTool\"},{\"attributes\":{\"bottom\":{\"value\":0},\"fill_alpha\":{\"value\":0.1},\"fill_color\":{\"value\":\"#1f77b4\"},\"left\":{\"field\":\"left\"},\"line_alpha\":{\"value\":0.1},\"line_color\":{\"value\":\"#1f77b4\"},\"right\":{\"field\":\"right\"},\"top\":{\"field\":\"top\"}},\"id\":\"2ba0ec4a-927d-4f46-b8b2-ed665996b762\",\"type\":\"Quad\"},{\"attributes\":{\"data_source\":{\"id\":\"24fd193b-e71f-42b3-8f36-de9951b8efd4\",\"type\":\"ColumnDataSource\"},\"glyph\":{\"id\":\"ec5b9038-53e2-44b9-a2de-03ac1f9be2b9\",\"type\":\"Quad\"},\"hover_glyph\":null,\"muted_glyph\":null,\"nonselection_glyph\":{\"id\":\"2ba0ec4a-927d-4f46-b8b2-ed665996b762\",\"type\":\"Quad\"},\"selection_glyph\":null,\"view\":{\"id\":\"90b8a97e-10db-45d4-b921-edd088e387a5\",\"type\":\"CDSView\"}},\"id\":\"9abfd9a6-71b7-4aeb-8c92-08d602eec567\",\"type\":\"GlyphRenderer\"},{\"attributes\":{\"plot\":null,\"text\":\"Top-1000 words distribution\"},\"id\":\"9d62bb1b-27d0-4514-9cb4-8e3e8774fd6a\",\"type\":\"Title\"},{\"attributes\":{},\"id\":\"f4931b8d-e5fc-4001-8b35-9af87298f09b\",\"type\":\"ResetTool\"},{\"attributes\":{\"callback\":null},\"id\":\"9257e867-6668-4665-8eff-c5cac7edc6e1\",\"type\":\"DataRange1d\"},{\"attributes\":{\"callback\":null,\"column_names\":[\"left\",\"right\",\"top\"],\"data\":{\"left\":{\"__ndarray__\":\"AAAAAABAeUB7FK5H4VqjQHsUrkfhxrFAuB6F61HguUB7FK5H4fzAQJqZmZmZCcVAuB6F61EWyUDXo3A9CiPNQHsUrkfhl9BACtejcD2e0kCamZmZmaTUQClcj8L1qtZAuB6F61Gx2EBI4XoUrrfaQNejcD0KvtxAZ2ZmZmbE3kB7FK5HYWXgQMP1KFyPaOFACtejcL1r4kBSuB6F627jQJqZmZkZcuRA4XoUrkd15UApXI/CdXjmQHE9Cteje+dAuB6F69F+6EAAAAAAAILpQEjhehQuhepAkML1KFyI60DXo3A9iovsQB+F61G4ju1AZ2ZmZuaR7kCuR+F6FJXvQHsUrkchTPBAH4XrUbjN8EDD9ShcT0/xQGdmZmbm0PFACtejcH1S8kCuR+F6FNTyQFK4HoWrVfNA9ihcj0LX80CamZmZ2Vj0QD4K16Nw2vRA4XoUrgdc9UCF61G4nt31QClcj8I1X/ZAzczMzMzg9kBxPQrXY2L3QBWuR+H64/dAuB6F65Fl+EBcj8L1KOf4QAAAAADAaPlApHA9Clfq+UBI4XoU7mv6QOxRuB6F7fpAkML1KBxv+0AzMzMzs/D7QNejcD1KcvxAexSuR+Hz/EAfhetReHX9QMP1KFwP9/1AZ2ZmZqZ4/kAK16NwPfr+QK5H4XrUe/9AUrgehWv9/0B7FK5HgT8AQc3MzMxMgABBH4XrURjBAEFxPQrX4wEBQcP1KFyvQgFBFa5H4XqDAUFnZmZmRsQBQbgehesRBQJBCtejcN1FAkFcj8L1qIYCQa5H4Xp0xwJBAAAAAEAIA0FSuB6FC0kDQaRwPQrXiQNB9ihcj6LKA0FI4XoUbgsEQZqZmZk5TARB7FG4HgWNBEE+Ctej0M0EQZDC9SicDgVB4XoUrmdPBUEzMzMzM5AFQYXrUbj+0AVB16NwPcoRBkEpXI/ClVIGQXsUrkdhkwZBzczMzCzUBkEfhetR+BQHQXE9CtfDVQdBw/UoXI+WB0EVrkfhWtcHQWdmZmYmGAhBuB6F6/FYCEEK16NwvZkIQVyPwvWI2ghBrkfhelQbCUE=\",\"dtype\":\"float64\",\"shape\":[100]},\"right\":{\"__ndarray__\":\"exSuR+Fao0B7FK5H4caxQLgehetR4LlAexSuR+H8wECamZmZmQnFQLgehetRFslA16NwPQojzUB7FK5H4ZfQQArXo3A9ntJAmpmZmZmk1EApXI/C9arWQLgehetRsdhASOF6FK632kDXo3A9Cr7cQGdmZmZmxN5AexSuR2Fl4EDD9Shcj2jhQArXo3C9a+JAUrgehetu40CamZmZGXLkQOF6FK5HdeVAKVyPwnV45kBxPQrXo3vnQLgehevRfuhAAAAAAACC6UBI4XoULoXqQJDC9ShciOtA16NwPYqL7EAfhetRuI7tQGdmZmbmke5ArkfhehSV70B7FK5HIUzwQB+F61G4zfBAw/UoXE9P8UBnZmZm5tDxQArXo3B9UvJArkfhehTU8kBSuB6Fq1XzQPYoXI9C1/NAmpmZmdlY9EA+CtejcNr0QOF6FK4HXPVAhetRuJ7d9UApXI/CNV/2QM3MzMzM4PZAcT0K12Ni90AVrkfh+uP3QLgeheuRZfhAXI/C9Sjn+EAAAAAAwGj5QKRwPQpX6vlASOF6FO5r+kDsUbgehe36QJDC9Sgcb/tAMzMzM7Pw+0DXo3A9SnL8QHsUrkfh8/xAH4XrUXh1/UDD9ShcD/f9QGdmZmameP5ACtejcD36/kCuR+F61Hv/QFK4HoVr/f9AexSuR4E/AEHNzMzMTIAAQR+F61EYwQBBcT0K1+MBAUHD9Shcr0IBQRWuR+F6gwFBZ2ZmZkbEAUG4HoXrEQUCQQrXo3DdRQJBXI/C9aiGAkGuR+F6dMcCQQAAAABACANBUrgehQtJA0GkcD0K14kDQfYoXI+iygNBSOF6FG4LBEGamZmZOUwEQexRuB4FjQRBPgrXo9DNBEGQwvUonA4FQeF6FK5nTwVBMzMzMzOQBUGF61G4/tAFQdejcD3KEQZBKVyPwpVSBkF7FK5HYZMGQc3MzMws1AZBH4XrUfgUB0FxPQrXw1UHQcP1KFyPlgdBFa5H4VrXB0FnZmZmJhgIQbgehevxWAhBCtejcL2ZCEFcj8L1iNoIQa5H4XpUGwlBAAAAACBcCUE=\",\"dtype\":\"float64\",\"shape\":[100]},\"top\":{\"__ndarray__\":\"50H1zNSBOT/ypb1tgHIBPwsriUb5Uew+zuTFiLI04j78kGUPxTHhPh40R25oQNY+zuTFiLI00j4pPQWW1y7APsTbB2FDRsg+JT0FltcuwD4tPQWW1y6wPi09BZbXLrA+JT0FltcuwD4tPQWW1y6gPiU9BZbXLrA+LT0FltcuoD4AAAAAAAAAADU9BZbXLqA+AAAAAAAAAAAAAAAAAAAAAAAAAAAAAAAAAAAAAAAAAAAAAAAAAAAAADU9BZbXLqA+AAAAAAAAAAAAAAAAAAAAAAAAAAAAAAAANT0FltcuoD4AAAAAAAAAAAAAAAAAAAAANT0FltcuoD4AAAAAAAAAACU9BZbXLqA+AAAAAAAAAAAlPQWW1y6gPkU9BZbXLqA+AAAAAAAAAAAlPQWW1y6gPgAAAAAAAAAAJT0FltcuoD4AAAAAAAAAAAAAAAAAAAAAAAAAAAAAAAAAAAAAAAAAAAAAAAAAAAAAJT0FltcuoD4AAAAAAAAAAAAAAAAAAAAAAAAAAAAAAAAAAAAAAAAAACU9BZbXLqA+AAAAAAAAAAAAAAAAAAAAAAAAAAAAAAAAAAAAAAAAAAAlPQWW1y6gPgAAAAAAAAAAAAAAAAAAAAAAAAAAAAAAAAAAAAAAAAAART0FltcuoD4AAAAAAAAAAAAAAAAAAAAAAAAAAAAAAAAAAAAAAAAAAAAAAAAAAAAAAAAAAAAAAAAAAAAAAAAAAAAAAAAAAAAAAAAAAAAAAAAAAAAAAAAAACU9BZbXLqA+AAAAAAAAAAAAAAAAAAAAAAAAAAAAAAAAAAAAAAAAAAAAAAAAAAAAAAAAAAAAAAAAAAAAAAAAAAAAAAAAAAAAAAAAAAAAAAAAAAAAAAAAAAAAAAAAAAAAAAAAAAAAAAAAAAAAAAAAAAAAAAAAAAAAAAAAAAAAAAAAAAAAAAAAAAAAAAAAAAAAAAAAAAAAAAAAAAAAAAAAAAAAAAAAAAAAAAAAAAAAAAAAAAAAAAAAAAAAAAAAAAAAAAAAAAAAAAAAAAAAAAAAAAAAAAAAAAAAAAAAAAAAAAAAJT0FltcuoD4=\",\"dtype\":\"float64\",\"shape\":[100]}}},\"id\":\"24fd193b-e71f-42b3-8f36-de9951b8efd4\",\"type\":\"ColumnDataSource\"},{\"attributes\":{},\"id\":\"b56953ea-bb37-4a2e-b3e5-1e7272be48bf\",\"type\":\"SaveTool\"},{\"attributes\":{\"below\":[{\"id\":\"d302f403-73ce-49d2-9245-fa5edc3feea5\",\"type\":\"LinearAxis\"}],\"left\":[{\"id\":\"f03ef3ca-bc8d-437b-9d36-f92073f2c7be\",\"type\":\"LinearAxis\"}],\"renderers\":[{\"id\":\"d302f403-73ce-49d2-9245-fa5edc3feea5\",\"type\":\"LinearAxis\"},{\"id\":\"a95c827c-5cfa-4771-b3cf-43fde3e3d66b\",\"type\":\"Grid\"},{\"id\":\"f03ef3ca-bc8d-437b-9d36-f92073f2c7be\",\"type\":\"LinearAxis\"},{\"id\":\"ebbe9bcf-9ea4-4232-83c8-78b026e5e9ad\",\"type\":\"Grid\"},{\"id\":\"9abfd9a6-71b7-4aeb-8c92-08d602eec567\",\"type\":\"GlyphRenderer\"}],\"title\":{\"id\":\"9d62bb1b-27d0-4514-9cb4-8e3e8774fd6a\",\"type\":\"Title\"},\"toolbar\":{\"id\":\"4ba195b2-b660-430f-85ac-c67fa3cfc58f\",\"type\":\"Toolbar\"},\"toolbar_location\":\"above\",\"x_range\":{\"id\":\"9257e867-6668-4665-8eff-c5cac7edc6e1\",\"type\":\"DataRange1d\"},\"x_scale\":{\"id\":\"1aedbdba-33c6-46f0-a565-b78d7ed6c8ef\",\"type\":\"LinearScale\"},\"y_range\":{\"id\":\"7ee412d1-e9ed-4e10-aa3d-59b4043ac955\",\"type\":\"DataRange1d\"},\"y_scale\":{\"id\":\"f57b4348-8108-4375-be71-399b838f5e4f\",\"type\":\"LinearScale\"}},\"id\":\"ef9b351c-e449-4eb0-a232-f4f7822025cb\",\"subtype\":\"Figure\",\"type\":\"Plot\"},{\"attributes\":{\"callback\":null},\"id\":\"7ee412d1-e9ed-4e10-aa3d-59b4043ac955\",\"type\":\"DataRange1d\"}],\"root_ids\":[\"ef9b351c-e449-4eb0-a232-f4f7822025cb\"]},\"title\":\"Bokeh Application\",\"version\":\"0.12.10\"}};\n",
       "    var render_items = [{\"docid\":\"7f1ba0f9-7231-4a57-8155-80ffce6c512b\",\"elementid\":\"316bbc25-6a5c-43f4-b2a9-668e6630bca8\",\"modelid\":\"ef9b351c-e449-4eb0-a232-f4f7822025cb\"}];\n",
       "\n",
       "    root.Bokeh.embed.embed_items(docs_json, render_items);\n",
       "  }\n",
       "\n",
       "  if (root.Bokeh !== undefined) {\n",
       "    embed_document(root);\n",
       "  } else {\n",
       "    var attempts = 0;\n",
       "    var timer = setInterval(function(root) {\n",
       "      if (root.Bokeh !== undefined) {\n",
       "        embed_document(root);\n",
       "        clearInterval(timer);\n",
       "      }\n",
       "      attempts++;\n",
       "      if (attempts > 100) {\n",
       "        console.log(\"Bokeh: ERROR: Unable to embed document because BokehJS library is missing\")\n",
       "        clearInterval(timer);\n",
       "      }\n",
       "    }, 10, root)\n",
       "  }\n",
       "})(window);"
      ],
      "application/vnd.bokehjs_exec.v0+json": ""
     },
     "metadata": {
      "application/vnd.bokehjs_exec.v0+json": {
       "id": "ef9b351c-e449-4eb0-a232-f4f7822025cb"
      }
     },
     "output_type": "display_data"
    }
   ],
   "source": [
    "hist, edges = np.histogram(counts_ted_top1000, density=True, bins=100, normed=True)\n",
    "\n",
    "p = figure(tools=\"pan,wheel_zoom,reset,save\",\n",
    "           toolbar_location=\"above\",\n",
    "           title=\"Top-1000 words distribution\")\n",
    "p.quad(top=hist, bottom=0, left=edges[:-1], right=edges[1:], line_color=\"#555555\")\n",
    "show(p)"
   ]
  },
  {
   "cell_type": "markdown",
   "metadata": {},
   "source": [
    "### Part 3: Train Word2Vec"
   ]
  },
  {
   "cell_type": "code",
   "execution_count": 17,
   "metadata": {},
   "outputs": [],
   "source": [
    "from gensim.models import Word2Vec"
   ]
  },
  {
   "cell_type": "code",
   "execution_count": 22,
   "metadata": {},
   "outputs": [],
   "source": [
    "model_ted=Word2Vec(sentences_ted, min_count=1)"
   ]
  },
  {
   "cell_type": "markdown",
   "metadata": {},
   "source": [
    "### Part 4: Ted Learnt Representations"
   ]
  },
  {
   "cell_type": "markdown",
   "metadata": {},
   "source": [
    "Finding similar words: (see gensim docs for more functionality of `most_similar`)"
   ]
  },
  {
   "cell_type": "code",
   "execution_count": 23,
   "metadata": {},
   "outputs": [
    {
     "name": "stderr",
     "output_type": "stream",
     "text": [
      "C:\\ProgramData\\Anaconda3\\lib\\site-packages\\ipykernel_launcher.py:1: DeprecationWarning: Call to deprecated `most_similar` (Method will be removed in 4.0.0, use self.wv.most_similar() instead).\n",
      "  \"\"\"Entry point for launching an IPython kernel.\n"
     ]
    },
    {
     "data": {
      "text/plain": [
       "[('woman', 0.8617663383483887),\n",
       " ('guy', 0.7974065542221069),\n",
       " ('lady', 0.7909111380577087),\n",
       " ('girl', 0.7605384588241577),\n",
       " ('boy', 0.7321338057518005),\n",
       " ('soldier', 0.7315996289253235),\n",
       " ('gentleman', 0.7105762958526611),\n",
       " ('kid', 0.7076332569122314),\n",
       " ('poet', 0.6751927137374878),\n",
       " ('caputo', 0.6588587164878845)]"
      ]
     },
     "execution_count": 23,
     "metadata": {},
     "output_type": "execute_result"
    }
   ],
   "source": [
    "model_ted.most_similar(\"man\")"
   ]
  },
  {
   "cell_type": "code",
   "execution_count": 24,
   "metadata": {},
   "outputs": [
    {
     "name": "stderr",
     "output_type": "stream",
     "text": [
      "C:\\ProgramData\\Anaconda3\\lib\\site-packages\\ipykernel_launcher.py:1: DeprecationWarning: Call to deprecated `most_similar` (Method will be removed in 4.0.0, use self.wv.most_similar() instead).\n",
      "  \"\"\"Entry point for launching an IPython kernel.\n"
     ]
    },
    {
     "data": {
      "text/plain": [
       "[('machine', 0.7364761829376221),\n",
       " ('software', 0.7236084938049316),\n",
       " ('robot', 0.6885508298873901),\n",
       " ('device', 0.682955265045166),\n",
       " ('program', 0.6707494854927063),\n",
       " ('interface', 0.6692365407943726),\n",
       " ('video', 0.6612833738327026),\n",
       " ('3d', 0.6526740789413452),\n",
       " ('test', 0.6431477069854736),\n",
       " ('satellite', 0.6411615610122681)]"
      ]
     },
     "execution_count": 24,
     "metadata": {},
     "output_type": "execute_result"
    }
   ],
   "source": [
    "model_ted.most_similar(\"computer\")"
   ]
  },
  {
   "cell_type": "code",
   "execution_count": 25,
   "metadata": {
    "collapsed": true
   },
   "outputs": [],
   "source": [
    "# ..."
   ]
  },
  {
   "cell_type": "markdown",
   "metadata": {},
   "source": [
    "#### t-SNE visualization\n",
    "To use the t-SNE code below, first put a list of the top 1000 words (as strings) into a variable `words_top_ted`. The following code gets the corresponding vectors from the model, assuming it's called `model_ted`:"
   ]
  },
  {
   "cell_type": "code",
   "execution_count": 26,
   "metadata": {},
   "outputs": [
    {
     "name": "stderr",
     "output_type": "stream",
     "text": [
      "C:\\ProgramData\\Anaconda3\\lib\\site-packages\\ipykernel_launcher.py:2: DeprecationWarning: Call to deprecated `__getitem__` (Method will be removed in 4.0.0, use self.wv.__getitem__() instead).\n",
      "  \n"
     ]
    }
   ],
   "source": [
    "# This assumes words_top_ted is a list of strings, the top 1000 words\n",
    "words_top_vec_ted = model_ted[words_top_ted]"
   ]
  },
  {
   "cell_type": "code",
   "execution_count": 27,
   "metadata": {
    "collapsed": true
   },
   "outputs": [],
   "source": [
    "from sklearn.manifold import TSNE\n",
    "tsne = TSNE(n_components=2, random_state=0)\n",
    "words_top_ted_tsne = tsne.fit_transform(words_top_vec_ted)"
   ]
  },
  {
   "cell_type": "code",
   "execution_count": 28,
   "metadata": {},
   "outputs": [
    {
     "data": {
      "text/html": [
       "\n",
       "<div class=\"bk-root\">\n",
       "    <div class=\"bk-plotdiv\" id=\"cbe748c3-77cf-489f-a053-2e573af9db21\"></div>\n",
       "</div>"
      ]
     },
     "metadata": {},
     "output_type": "display_data"
    },
    {
     "data": {
      "application/javascript": [
       "(function(root) {\n",
       "  function embed_document(root) {\n",
       "    var docs_json = {\"300f57bb-f627-4445-b84d-082d0e0a68df\":{\"roots\":{\"references\":[{\"attributes\":{\"below\":[{\"id\":\"bbd03bcf-a44b-4785-a229-0d8477b26588\",\"type\":\"LinearAxis\"}],\"left\":[{\"id\":\"d0b9ee67-3476-49dd-9dc3-8b0e8eba4f00\",\"type\":\"LinearAxis\"}],\"renderers\":[{\"id\":\"bbd03bcf-a44b-4785-a229-0d8477b26588\",\"type\":\"LinearAxis\"},{\"id\":\"2437d2eb-47b9-458e-bc41-a4a5396bac1f\",\"type\":\"Grid\"},{\"id\":\"d0b9ee67-3476-49dd-9dc3-8b0e8eba4f00\",\"type\":\"LinearAxis\"},{\"id\":\"ebad8f92-70ed-42f8-885b-dc50560b028d\",\"type\":\"Grid\"},{\"id\":\"03222a75-b0a7-44fb-bb63-310dcc7cb32d\",\"type\":\"GlyphRenderer\"},{\"id\":\"d8326df6-e3e2-4955-b7ee-354a6a5d96b3\",\"type\":\"LabelSet\"}],\"title\":{\"id\":\"1d2c29c2-fb9d-4acc-97a6-020a254802fd\",\"type\":\"Title\"},\"toolbar\":{\"id\":\"45e427f1-5b8f-4a3e-adb0-d4404c90abdb\",\"type\":\"Toolbar\"},\"toolbar_location\":\"above\",\"x_range\":{\"id\":\"a99e1d90-c930-4e64-a394-ecb58c5400cc\",\"type\":\"DataRange1d\"},\"x_scale\":{\"id\":\"ef84cae0-824e-4820-9e85-c4c5bc2fea3e\",\"type\":\"LinearScale\"},\"y_range\":{\"id\":\"69e3e4b3-6936-4abc-b52d-9a7af24104fb\",\"type\":\"DataRange1d\"},\"y_scale\":{\"id\":\"e09583f3-3102-4fee-a1bb-195ede9ad5bd\",\"type\":\"LinearScale\"}},\"id\":\"4711b92f-2676-4e68-b280-630695445613\",\"subtype\":\"Figure\",\"type\":\"Plot\"},{\"attributes\":{},\"id\":\"a927a44c-9dd9-413b-9193-1f38b92668ae\",\"type\":\"PanTool\"},{\"attributes\":{},\"id\":\"438bd840-3cc9-4f86-93ec-8d3b3e8f1408\",\"type\":\"WheelZoomTool\"},{\"attributes\":{\"data_source\":{\"id\":\"2d66ba34-ec48-49f2-8626-f5c85012368d\",\"type\":\"ColumnDataSource\"},\"glyph\":{\"id\":\"a11312c6-a419-4079-8ffd-61ec1c85e5a7\",\"type\":\"Circle\"},\"hover_glyph\":null,\"muted_glyph\":null,\"nonselection_glyph\":{\"id\":\"72c23f70-a492-43d6-900f-073d1c1829dc\",\"type\":\"Circle\"},\"selection_glyph\":null,\"view\":{\"id\":\"d6520ac8-77d1-4e6b-a2f5-d0c200ef07ed\",\"type\":\"CDSView\"}},\"id\":\"03222a75-b0a7-44fb-bb63-310dcc7cb32d\",\"type\":\"GlyphRenderer\"},{\"attributes\":{\"plot\":null,\"text\":\"word2vec T-SNE for most common words\"},\"id\":\"1d2c29c2-fb9d-4acc-97a6-020a254802fd\",\"type\":\"Title\"},{\"attributes\":{},\"id\":\"c18e8ccf-0279-4440-9ba9-b5a2950c38aa\",\"type\":\"ResetTool\"},{\"attributes\":{\"fill_alpha\":{\"value\":0.1},\"fill_color\":{\"value\":\"#1f77b4\"},\"line_alpha\":{\"value\":0.1},\"line_color\":{\"value\":\"#1f77b4\"},\"size\":{\"units\":\"screen\",\"value\":8},\"x\":{\"field\":\"x1\"},\"y\":{\"field\":\"x2\"}},\"id\":\"72c23f70-a492-43d6-900f-073d1c1829dc\",\"type\":\"Circle\"},{\"attributes\":{},\"id\":\"658df9c7-04fe-4205-b819-b32e7419112f\",\"type\":\"SaveTool\"},{\"attributes\":{\"active_drag\":\"auto\",\"active_inspect\":\"auto\",\"active_scroll\":\"auto\",\"active_tap\":\"auto\",\"tools\":[{\"id\":\"a927a44c-9dd9-413b-9193-1f38b92668ae\",\"type\":\"PanTool\"},{\"id\":\"438bd840-3cc9-4f86-93ec-8d3b3e8f1408\",\"type\":\"WheelZoomTool\"},{\"id\":\"c18e8ccf-0279-4440-9ba9-b5a2950c38aa\",\"type\":\"ResetTool\"},{\"id\":\"658df9c7-04fe-4205-b819-b32e7419112f\",\"type\":\"SaveTool\"}]},\"id\":\"45e427f1-5b8f-4a3e-adb0-d4404c90abdb\",\"type\":\"Toolbar\"},{\"attributes\":{},\"id\":\"ef84cae0-824e-4820-9e85-c4c5bc2fea3e\",\"type\":\"LinearScale\"},{\"attributes\":{\"callback\":null},\"id\":\"69e3e4b3-6936-4abc-b52d-9a7af24104fb\",\"type\":\"DataRange1d\"},{\"attributes\":{},\"id\":\"e09583f3-3102-4fee-a1bb-195ede9ad5bd\",\"type\":\"LinearScale\"},{\"attributes\":{\"plot\":{\"id\":\"4711b92f-2676-4e68-b280-630695445613\",\"subtype\":\"Figure\",\"type\":\"Plot\"},\"ticker\":{\"id\":\"90f1407b-31fb-45fe-b89d-3c2f5fd663d3\",\"type\":\"BasicTicker\"}},\"id\":\"2437d2eb-47b9-458e-bc41-a4a5396bac1f\",\"type\":\"Grid\"},{\"attributes\":{\"formatter\":{\"id\":\"5013ae0c-c9e1-4513-b14b-5c4e73530551\",\"type\":\"BasicTickFormatter\"},\"plot\":{\"id\":\"4711b92f-2676-4e68-b280-630695445613\",\"subtype\":\"Figure\",\"type\":\"Plot\"},\"ticker\":{\"id\":\"90f1407b-31fb-45fe-b89d-3c2f5fd663d3\",\"type\":\"BasicTicker\"}},\"id\":\"bbd03bcf-a44b-4785-a229-0d8477b26588\",\"type\":\"LinearAxis\"},{\"attributes\":{\"plot\":{\"id\":\"4711b92f-2676-4e68-b280-630695445613\",\"subtype\":\"Figure\",\"type\":\"Plot\"},\"source\":{\"id\":\"2d66ba34-ec48-49f2-8626-f5c85012368d\",\"type\":\"ColumnDataSource\"},\"text\":{\"field\":\"names\"},\"text_align\":\"center\",\"text_color\":{\"value\":\"#555555\"},\"text_font_size\":{\"value\":\"8pt\"},\"x\":{\"field\":\"x1\"},\"y\":{\"field\":\"x2\"},\"y_offset\":{\"value\":6}},\"id\":\"d8326df6-e3e2-4955-b7ee-354a6a5d96b3\",\"type\":\"LabelSet\"},{\"attributes\":{},\"id\":\"90f1407b-31fb-45fe-b89d-3c2f5fd663d3\",\"type\":\"BasicTicker\"},{\"attributes\":{},\"id\":\"960454d5-124a-4cf2-8b2d-db2ddd04abe6\",\"type\":\"BasicTickFormatter\"},{\"attributes\":{\"formatter\":{\"id\":\"960454d5-124a-4cf2-8b2d-db2ddd04abe6\",\"type\":\"BasicTickFormatter\"},\"plot\":{\"id\":\"4711b92f-2676-4e68-b280-630695445613\",\"subtype\":\"Figure\",\"type\":\"Plot\"},\"ticker\":{\"id\":\"3588b4d4-b9d9-4ba7-9a2f-45f8fe300567\",\"type\":\"BasicTicker\"}},\"id\":\"d0b9ee67-3476-49dd-9dc3-8b0e8eba4f00\",\"type\":\"LinearAxis\"},{\"attributes\":{},\"id\":\"3588b4d4-b9d9-4ba7-9a2f-45f8fe300567\",\"type\":\"BasicTicker\"},{\"attributes\":{\"source\":{\"id\":\"2d66ba34-ec48-49f2-8626-f5c85012368d\",\"type\":\"ColumnDataSource\"}},\"id\":\"d6520ac8-77d1-4e6b-a2f5-d0c200ef07ed\",\"type\":\"CDSView\"},{\"attributes\":{\"dimension\":1,\"plot\":{\"id\":\"4711b92f-2676-4e68-b280-630695445613\",\"subtype\":\"Figure\",\"type\":\"Plot\"},\"ticker\":{\"id\":\"3588b4d4-b9d9-4ba7-9a2f-45f8fe300567\",\"type\":\"BasicTicker\"}},\"id\":\"ebad8f92-70ed-42f8-885b-dc50560b028d\",\"type\":\"Grid\"},{\"attributes\":{},\"id\":\"5013ae0c-c9e1-4513-b14b-5c4e73530551\",\"type\":\"BasicTickFormatter\"},{\"attributes\":{\"fill_color\":{\"value\":\"#1f77b4\"},\"line_color\":{\"value\":\"#1f77b4\"},\"size\":{\"units\":\"screen\",\"value\":8},\"x\":{\"field\":\"x1\"},\"y\":{\"field\":\"x2\"}},\"id\":\"a11312c6-a419-4079-8ffd-61ec1c85e5a7\",\"type\":\"Circle\"},{\"attributes\":{\"callback\":null,\"column_names\":[\"x1\",\"x2\",\"names\"],\"data\":{\"names\":[\"the\",\"and\",\"to\",\"of\",\"a\",\"that\",\"i\",\"in\",\"it\",\"you\",\"we\",\"is\",\"s\",\"this\",\"so\",\"they\",\"was\",\"for\",\"are\",\"have\",\"but\",\"what\",\"on\",\"with\",\"can\",\"t\",\"about\",\"there\",\"be\",\"as\",\"at\",\"all\",\"not\",\"do\",\"my\",\"one\",\"re\",\"people\",\"like\",\"if\",\"from\",\"now\",\"our\",\"he\",\"an\",\"just\",\"these\",\"or\",\"when\",\"because\",\"very\",\"me\",\"out\",\"by\",\"them\",\"how\",\"know\",\"up\",\"going\",\"had\",\"more\",\"think\",\"who\",\"were\",\"see\",\"your\",\"their\",\"which\",\"would\",\"here\",\"really\",\"get\",\"ve\",\"then\",\"m\",\"world\",\"us\",\"time\",\"some\",\"has\",\"don\",\"actually\",\"into\",\"way\",\"where\",\"will\",\"years\",\"things\",\"other\",\"no\",\"could\",\"go\",\"well\",\"want\",\"been\",\"make\",\"right\",\"she\",\"said\",\"something\",\"those\",\"first\",\"two\",\"than\",\"much\",\"also\",\"look\",\"new\",\"thing\",\"little\",\"got\",\"back\",\"over\",\"most\",\"say\",\"even\",\"his\",\"life\",\"only\",\"work\",\"many\",\"take\",\"need\",\"did\",\"lot\",\"kind\",\"why\",\"good\",\"around\",\"every\",\"different\",\"down\",\"ll\",\"let\",\"her\",\"through\",\"same\",\"being\",\"come\",\"d\",\"day\",\"year\",\"three\",\"use\",\"doing\",\"put\",\"called\",\"any\",\"today\",\"percent\",\"made\",\"after\",\"thank\",\"tell\",\"great\",\"human\",\"find\",\"didn\",\"fact\",\"talk\",\"change\",\"started\",\"another\",\"idea\",\"big\",\"last\",\"own\",\"before\",\"its\",\"never\",\"should\",\"better\",\"give\",\"thought\",\"went\",\"might\",\"important\",\"000\",\"again\",\"able\",\"together\",\"still\",\"problem\",\"off\",\"next\",\"part\",\"course\",\"system\",\"him\",\"does\",\"each\",\"start\",\"show\",\"long\",\"ago\",\"story\",\"came\",\"brain\",\"few\",\"bit\",\"between\",\"used\",\"place\",\"technology\",\"women\",\"too\",\"old\",\"mean\",\"data\",\"water\",\"looking\",\"question\",\"maybe\",\"found\",\"love\",\"doesn\",\"end\",\"example\",\"10\",\"done\",\"point\",\"four\",\"real\",\"wanted\",\"ever\",\"school\",\"understand\",\"sort\",\"live\",\"call\",\"whole\",\"children\",\"always\",\"trying\",\"may\",\"person\",\"away\",\"believe\",\"feel\",\"try\",\"million\",\"working\",\"help\",\"everything\",\"five\",\"country\",\"thinking\",\"second\",\"using\",\"information\",\"money\",\"means\",\"power\",\"took\",\"times\",\"high\",\"space\",\"number\",\"kids\",\"home\",\"become\",\"create\",\"small\",\"design\",\"making\",\"best\",\"left\",\"getting\",\"future\",\"enough\",\"man\",\"quite\",\"city\",\"without\",\"sense\",\"happened\",\"comes\",\"social\",\"probably\",\"less\",\"light\",\"talking\",\"energy\",\"am\",\"building\",\"science\",\"food\",\"body\",\"told\",\"interesting\",\"ask\",\"half\",\"pretty\",\"hard\",\"play\",\"anything\",\"lives\",\"countries\",\"coming\",\"such\",\"family\",\"stuff\",\"dollars\",\"earth\",\"moment\",\"20\",\"imagine\",\"across\",\"side\",\"while\",\"saw\",\"happen\",\"once\",\"okay\",\"build\",\"having\",\"men\",\"later\",\"experience\",\"makes\",\"asked\",\"living\",\"seen\",\"says\",\"room\",\"hand\",\"simple\",\"health\",\"ways\",\"else\",\"case\",\"yet\",\"almost\",\"young\",\"days\",\"nothing\",\"care\",\"bad\",\"happens\",\"goes\",\"move\",\"states\",\"reason\",\"computer\",\"open\",\"learn\",\"africa\",\"process\",\"inside\",\"someone\",\"six\",\"far\",\"mind\",\"project\",\"remember\",\"single\",\"picture\",\"both\",\"whether\",\"problems\",\"saying\",\"community\",\"basically\",\"already\",\"within\",\"looked\",\"myself\",\"billion\",\"often\",\"possible\",\"business\",\"planet\",\"global\",\"everybody\",\"top\",\"sure\",\"public\",\"set\",\"wrong\",\"car\",\"book\",\"keep\",\"yes\",\"answer\",\"oh\",\"hope\",\"sometimes\",\"true\",\"history\",\"war\",\"guy\",\"child\",\"instead\",\"months\",\"ideas\",\"looks\",\"matter\",\"government\",\"amazing\",\"united\",\"since\",\"bring\",\"age\",\"cells\",\"job\",\"heard\",\"until\",\"face\",\"wasn\",\"100\",\"read\",\"control\",\"isn\",\"research\",\"30\",\"words\",\"u\",\"group\",\"under\",\"self\",\"somebody\",\"built\",\"state\",\"woman\",\"turn\",\"friends\",\"beautiful\",\"line\",\"knew\",\"couple\",\"order\",\"form\",\"yeah\",\"internet\",\"middle\",\"music\",\"piece\",\"nature\",\"head\",\"though\",\"stop\",\"everyone\",\"50\",\"places\",\"video\",\"learned\",\"language\",\"run\",\"night\",\"decided\",\"study\",\"word\",\"cancer\",\"taking\",\"works\",\"became\",\"exactly\",\"species\",\"society\",\"completely\",\"education\",\"against\",\"stories\",\"large\",\"share\",\"level\",\"heart\",\"america\",\"model\",\"questions\",\"gets\",\"mother\",\"god\",\"company\",\"turns\",\"ourselves\",\"happening\",\"hear\",\"art\",\"themselves\",\"must\",\"itself\",\"rather\",\"kinds\",\"students\",\"name\",\"hours\",\"disease\",\"front\",\"house\",\"huge\",\"couldn\",\"created\",\"universe\",\"ok\",\"animals\",\"american\",\"environment\",\"worked\",\"minutes\",\"ones\",\"black\",\"perhaps\",\"1\",\"past\",\"third\",\"along\",\"others\",\"finally\",\"sound\",\"early\",\"game\",\"thousands\",\"century\",\"based\",\"least\",\"per\",\"ted\",\"lots\",\"figure\",\"free\",\"guys\",\"particular\",\"happy\",\"news\",\"learning\",\"entire\",\"won\",\"gave\",\"machine\",\"india\",\"during\",\"systems\",\"air\",\"difference\",\"outside\",\"natural\",\"taken\",\"seven\",\"given\",\"changed\",\"leave\",\"cell\",\"15\",\"close\",\"behind\",\"cities\",\"full\",\"scale\",\"difficult\",\"china\",\"takes\",\"companies\",\"yourself\",\"area\",\"reality\",\"seeing\",\"easy\",\"turned\",\"cost\",\"eyes\",\"team\",\"moving\",\"population\",\"culture\",\"york\",\"hands\",\"whatever\",\"began\",\"needs\",\"terms\",\"image\",\"simply\",\"needed\",\"beginning\",\"father\",\"local\",\"realized\",\"media\",\"death\",\"parents\",\"view\",\"walk\",\"white\",\"market\",\"parts\",\"ocean\",\"economic\",\"eight\",\"powerful\",\"known\",\"week\",\"size\",\"felt\",\"humans\",\"certain\",\"spend\",\"longer\",\"phone\",\"wonderful\",\"cannot\",\"grow\",\"common\",\"center\",\"tried\",\"fish\",\"land\",\"oil\",\"political\",\"interested\",\"deal\",\"red\",\"gone\",\"amount\",\"weeks\",\"spent\",\"opportunity\",\"paper\",\"lost\",\"national\",\"quickly\",\"blue\",\"step\",\"poor\",\"green\",\"buy\",\"growth\",\"wouldn\",\"either\",\"patients\",\"sitting\",\"ability\",\"changes\",\"write\",\"challenge\",\"south\",\"low\",\"growing\",\"friend\",\"field\",\"shows\",\"2\",\"born\",\"rest\",\"climate\",\"40\",\"test\",\"street\",\"surface\",\"incredible\",\"average\",\"physical\",\"morning\",\"scientists\",\"program\",\"pay\",\"value\",\"feeling\",\"hundreds\",\"girl\",\"met\",\"behavior\",\"economy\",\"dna\",\"complex\",\"access\",\"risk\",\"animal\",\"structure\",\"feet\",\"attention\",\"areas\",\"anyone\",\"deep\",\"watch\",\"short\",\"absolutely\",\"speak\",\"brought\",\"die\",\"bottom\",\"numbers\",\"audience\",\"stage\",\"realize\",\"law\",\"images\",\"wrote\",\"understanding\",\"knowledge\",\"literally\",\"books\",\"movement\",\"ground\",\"giving\",\"eat\",\"force\",\"seems\",\"alone\",\"telling\",\"starting\",\"hold\",\"nice\",\"forward\",\"sea\",\"developed\",\"individual\",\"kid\",\"millions\",\"support\",\"miles\",\"tools\",\"running\",\"online\",\"result\",\"act\",\"medical\",\"technologies\",\"north\",\"lab\",\"development\",\"blood\",\"fear\",\"nobody\",\"map\",\"personal\",\"issue\",\"voice\",\"material\",\"key\",\"12\",\"recently\",\"theory\",\"cut\",\"cars\",\"sun\",\"fast\",\"changing\",\"playing\",\"clear\",\"especially\",\"soon\",\"girls\",\"patient\",\"choice\",\"fly\",\"creating\",\"normal\",\"discovered\",\"europe\",\"talked\",\"relationship\",\"gives\",\"generation\",\"dark\",\"type\",\"showed\",\"chance\",\"seem\",\"industry\",\"asking\",\"rate\",\"fun\",\"issues\",\"color\",\"designed\",\"hour\",\"university\",\"innovation\",\"several\",\"class\",\"computers\",\"english\",\"tiny\",\"allow\",\"save\",\"focus\",\"digital\",\"solve\",\"developing\",\"network\",\"film\",\"special\",\"wall\",\"situation\",\"baby\",\"solution\",\"reasons\",\"box\",\"knows\",\"meet\",\"dead\",\"stand\",\"begin\",\"haven\",\"impact\",\"anybody\",\"term\",\"beyond\",\"pictures\",\"please\",\"ice\",\"produce\",\"shape\",\"non\",\"resources\",\"robot\",\"cool\",\"groups\",\"likely\",\"stay\",\"available\",\"truth\",\"rights\",\"major\",\"cause\",\"evidence\",\"obviously\",\"writing\",\"experiment\",\"modern\",\"drug\",\"becomes\",\"incredibly\",\"aren\",\"bigger\",\"guess\",\"nine\",\"product\",\"drugs\",\"lived\",\"involved\",\"perfect\",\"google\",\"month\",\"effect\",\"similar\",\"putting\",\"eye\",\"pick\",\"message\",\"quality\",\"violence\",\"web\",\"evolution\",\"security\",\"office\",\"basic\",\"solar\",\"indeed\",\"general\",\"towards\",\"present\",\"drive\",\"send\",\"listen\",\"worth\",\"revolution\",\"explain\",\"hundred\",\"certainly\",\"died\",\"ready\",\"teach\",\"journey\",\"25\",\"hit\",\"walking\",\"led\",\"approach\",\"international\",\"200\",\"scientific\",\"games\",\"60\",\"potential\",\"crazy\",\"communities\",\"chinese\",\"device\",\"source\",\"camera\",\"rules\",\"sex\",\"carbon\",\"sounds\",\"boy\",\"reach\",\"starts\",\"examples\",\"west\",\"3\",\"success\",\"measure\",\"particularly\",\"software\",\"totally\",\"suddenly\",\"action\",\"college\",\"higher\",\"code\",\"eventually\",\"democracy\",\"among\",\"minute\",\"sit\",\"largest\",\"showing\",\"hospital\",\"notice\",\"period\",\"mass\",\"develop\",\"dream\",\"onto\",\"plants\",\"break\",\"add\",\"memory\",\"everywhere\",\"favorite\",\"11\",\"zero\",\"speed\",\"schools\",\"moved\",\"response\",\"wants\",\"extremely\",\"movie\",\"individuals\",\"table\",\"wait\",\"medicine\",\"follow\",\"anyway\",\"trust\",\"plant\",\"biggest\",\"watching\",\"organization\",\"creative\",\"road\",\"choose\",\"worse\",\"lead\",\"results\",\"500\",\"exciting\",\"grew\",\"materials\",\"jobs\",\"plan\",\"east\",\"poverty\",\"positive\",\"safe\",\"strong\",\"fall\",\"essentially\",\"object\",\"door\",\"son\",\"vision\",\"further\",\"happiness\",\"continue\",\"student\",\"doctor\",\"including\",\"named\",\"role\",\"objects\",\"extraordinary\",\"standing\",\"skin\",\"leaders\",\"usually\",\"african\",\"conversation\",\"projects\",\"allowed\",\"models\",\"supposed\",\"faster\",\"interest\",\"families\",\"police\",\"fight\",\"tree\",\"connected\",\"screen\",\"5\",\"cases\",\"goal\",\"somewhere\",\"finding\",\"buildings\",\"shown\"],\"x1\":{\"__ndarray__\":\"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\",\"dtype\":\"float32\",\"shape\":[1000]},\"x2\":{\"__ndarray__\":\"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\",\"dtype\":\"float32\",\"shape\":[1000]}}},\"id\":\"2d66ba34-ec48-49f2-8626-f5c85012368d\",\"type\":\"ColumnDataSource\"},{\"attributes\":{\"callback\":null},\"id\":\"a99e1d90-c930-4e64-a394-ecb58c5400cc\",\"type\":\"DataRange1d\"}],\"root_ids\":[\"4711b92f-2676-4e68-b280-630695445613\"]},\"title\":\"Bokeh Application\",\"version\":\"0.12.10\"}};\n",
       "    var render_items = [{\"docid\":\"300f57bb-f627-4445-b84d-082d0e0a68df\",\"elementid\":\"cbe748c3-77cf-489f-a053-2e573af9db21\",\"modelid\":\"4711b92f-2676-4e68-b280-630695445613\"}];\n",
       "\n",
       "    root.Bokeh.embed.embed_items(docs_json, render_items);\n",
       "  }\n",
       "\n",
       "  if (root.Bokeh !== undefined) {\n",
       "    embed_document(root);\n",
       "  } else {\n",
       "    var attempts = 0;\n",
       "    var timer = setInterval(function(root) {\n",
       "      if (root.Bokeh !== undefined) {\n",
       "        embed_document(root);\n",
       "        clearInterval(timer);\n",
       "      }\n",
       "      attempts++;\n",
       "      if (attempts > 100) {\n",
       "        console.log(\"Bokeh: ERROR: Unable to embed document because BokehJS library is missing\")\n",
       "        clearInterval(timer);\n",
       "      }\n",
       "    }, 10, root)\n",
       "  }\n",
       "})(window);"
      ],
      "application/vnd.bokehjs_exec.v0+json": ""
     },
     "metadata": {
      "application/vnd.bokehjs_exec.v0+json": {
       "id": "4711b92f-2676-4e68-b280-630695445613"
      }
     },
     "output_type": "display_data"
    }
   ],
   "source": [
    "p = figure(tools=\"pan,wheel_zoom,reset,save\",\n",
    "           toolbar_location=\"above\",\n",
    "           title=\"word2vec T-SNE for most common words\")\n",
    "\n",
    "source = ColumnDataSource(data=dict(x1=words_top_ted_tsne[:,0],\n",
    "                                    x2=words_top_ted_tsne[:,1],\n",
    "                                    names=words_top_ted))\n",
    "\n",
    "p.scatter(x=\"x1\", y=\"x2\", size=8, source=source)\n",
    "\n",
    "labels = LabelSet(x=\"x1\", y=\"x2\", text=\"names\", y_offset=6,\n",
    "                  text_font_size=\"8pt\", text_color=\"#555555\",\n",
    "                  source=source, text_align='center')\n",
    "p.add_layout(labels)\n",
    "\n",
    "show(p)"
   ]
  },
  {
   "cell_type": "markdown",
   "metadata": {},
   "source": [
    "### Part 5: Wiki Learnt Representations"
   ]
  },
  {
   "cell_type": "markdown",
   "metadata": {},
   "source": [
    "Download dataset"
   ]
  },
  {
   "cell_type": "code",
   "execution_count": 46,
   "metadata": {},
   "outputs": [],
   "source": [
    "if not os.path.isfile('wikitext-103-raw-v1.zip'):\n",
    "    urllib.request.urlretrieve(\"https://s3.amazonaws.com/research.metamind.io/wikitext/wikitext-103-raw-v1.zip\", filename=\"wikitext-103-raw-v1.zip\")"
   ]
  },
  {
   "cell_type": "code",
   "execution_count": 76,
   "metadata": {
    "collapsed": true
   },
   "outputs": [],
   "source": [
    "with zipfile.ZipFile('wikitext-103-raw-v1.zip', 'r') as z:\n",
    "    input_text = str(z.open('wikitext-103-raw/wiki.train.raw', 'r').read(), encoding='utf-8') # Thanks Robert Bastian"
   ]
  },
  {
   "cell_type": "markdown",
   "metadata": {},
   "source": [
    "Preprocess sentences (note that it's important to remove small sentences for performance)"
   ]
  },
  {
   "cell_type": "code",
   "execution_count": 77,
   "metadata": {},
   "outputs": [],
   "source": [
    "sentences_string_wiki = []\n",
    "for line in input_text.split('\\n'):\n",
    "    s = [x for x in line.split('.') if x and len(x.split()) >= 5]\n",
    "    sentences_string_wiki.extend(s)\n",
    "    \n",
    "for s_i in range(len(sentences_string_wiki)):\n",
    "    sentences_string_wiki[s_i] = re.sub(\"[^a-z]\", \" \", sentences_string_wiki[s_i].lower())\n",
    "    sentences_string_wiki[s_i] = re.sub(r'\\([^)]*\\)', '', sentences_string_wiki[s_i])\n",
    "del input_text\n"
   ]
  },
  {
   "cell_type": "code",
   "execution_count": 78,
   "metadata": {},
   "outputs": [
    {
     "name": "stdout",
     "output_type": "stream",
     "text": [
      "4267112\n",
      "853422\n"
     ]
    }
   ],
   "source": [
    "# sample 1/5 of the data\n",
    "shuffle(sentences_string_wiki)\n",
    "print(len(sentences_string_wiki))\n",
    "sentences_string_wiki = sentences_string_wiki[:int(len(sentences_string_wiki)/5)]\n",
    "print(len(sentences_string_wiki))"
   ]
  },
  {
   "cell_type": "code",
   "execution_count": 81,
   "metadata": {
    "collapsed": true
   },
   "outputs": [],
   "source": [
    "sentences_wiki = []\n",
    "for sent_str in sentences_string_wiki:\n",
    "    tokens = re.sub(r\"[^a-z0-9]+\", \" \", sent_str.lower()).split()\n",
    "    sentences_wiki.append(tokens)"
   ]
  },
  {
   "cell_type": "markdown",
   "metadata": {},
   "source": [
    "Now, repeat all the same steps that you performed above. You should be able to reuse essentially all the code."
   ]
  },
  {
   "cell_type": "code",
   "execution_count": 82,
   "metadata": {},
   "outputs": [],
   "source": [
    "model_wiki=Word2Vec(sentences_wiki, min_count=1)"
   ]
  },
  {
   "cell_type": "code",
   "execution_count": 83,
   "metadata": {},
   "outputs": [
    {
     "name": "stdout",
     "output_type": "stream",
     "text": [
      "[['the', 'series', 'premiere', 'was', 'the', 'eleventh', 'most', 'watched', 'television', 'show', 'of', 'the', 'week', 'and', 'was', 'the', 'highest', 'rated', 'p'], ['at', 'the', 'end', 'of', 'the', 'th', 'century', 'the', 'boca', 'formed', 'a', 'single', 'college', 'of', 'cardinals', 'which', 'became', 'the', 'main', 'body', 'of', 'the', 'papal', 'government', 'they', 'served', 'as', 'experts', 'or', 'judges', 'in', 'the', 'legal', 'causes', 'auditors', 'countersigned', 'the', 'solemn', 'papal', 'privileges', 'acted', 'as', 'governors', 'of', 'the', 'cities', 'or', 'provinces', 'of', 'the', 'papal', 'states', 'or', 'were', 'sent', 'by', 'the', 'popes', 'on', 'important', 'diplomatic', 'missions'], ['an', 'area', 'of', 'high', 'pressure', 'to', 'the', 'north', 'and', 'east', 'of', 'the', 'storm', 'was', 'said', 'to', 'have', 'prevented', 'it', 'from', 'recurving', 'out', 'to', 'sea', 'and', 'the', 'cyclone', 'skirted', 'the', 'eastern', 'coast', 'of', 'north', 'carolina', 'before', 'being', 'listed', 'as', 'dissipated', 'east', 'of', 'the', 'delmarva', 'peninsula'], ['on', 'game', 'rankings', 'based', 'on', 'three', 'reviews'], ['personnel'], ['bill', 'shankly', 'was', 'born', 'in', 'a', 'small', 'ayrshire', 'coal', 'mining', 'village', 'called', 'glenbuck', 'whose', 'population', 'in', 'the', 'year', 'of', 'shankly', 's', 'birth', 'was', 'around'], ['there', 'is', 'also', 'an', 'emphasis', 'on', 'long', 'vowels', 'which', 'control', 'the', 'flow', 'of', 'the', 'poem', 'giving', 'it', 'a', 'slow', 'measured', 'pace'], ['colbeck', 'was', 'born', 'in', 'bradford', 'and', 'attended', 'pudsey', 'tyersal', 'school'], ['by', 'bc', 'the', 'economic', 'condition', 'of', 'the', 'average', 'plebeian', 'had', 'become', 'poor', 'and', 'the', 'result', 'was', 'the', 'final', 'plebeian', 'secession'], ['hatless']]\n"
     ]
    }
   ],
   "source": [
    "count_wiki = Counter()\n",
    "print(sentences_wiki[:10])\n",
    "for sentence in sentences_wiki:\n",
    "    for word in sentence:\n",
    "        count_wiki[word] += 1\n",
    "# print(count_wiki)\n",
    "words_top_wiki = [token_count_pair[0] for token_count_pair in count_wiki.most_common(1000)]\n",
    "# print(words_top_ted)\n",
    "counts_wiki_top1000 = [token_count_pair[1] for token_count_pair in count_wiki.most_common(1000)]\n",
    "# print(counts_ted_top1000)"
   ]
  },
  {
   "cell_type": "markdown",
   "metadata": {},
   "source": [
    "#### t-SNE visualization"
   ]
  },
  {
   "cell_type": "code",
   "execution_count": 84,
   "metadata": {},
   "outputs": [
    {
     "name": "stderr",
     "output_type": "stream",
     "text": [
      "C:\\ProgramData\\Anaconda3\\lib\\site-packages\\ipykernel_launcher.py:2: DeprecationWarning: Call to deprecated `__getitem__` (Method will be removed in 4.0.0, use self.wv.__getitem__() instead).\n",
      "  \n"
     ]
    }
   ],
   "source": [
    "# This assumes words_top_wiki is a list of strings, the top 1000 words\n",
    "words_top_vec_wiki = model_wiki[words_top_wiki]\n",
    "\n",
    "tsne = TSNE(n_components=2, random_state=0)\n",
    "words_top_wiki_tsne = tsne.fit_transform(words_top_vec_wiki)"
   ]
  },
  {
   "cell_type": "code",
   "execution_count": 85,
   "metadata": {},
   "outputs": [
    {
     "data": {
      "text/html": [
       "\n",
       "<div class=\"bk-root\">\n",
       "    <div class=\"bk-plotdiv\" id=\"a331817f-fc79-447f-a13f-810927515ec3\"></div>\n",
       "</div>"
      ]
     },
     "metadata": {},
     "output_type": "display_data"
    },
    {
     "data": {
      "application/javascript": [
       "(function(root) {\n",
       "  function embed_document(root) {\n",
       "    var docs_json = {\"4cc68b8e-8e23-4089-b3ce-dcee1093ebff\":{\"roots\":{\"references\":[{\"attributes\":{\"formatter\":{\"id\":\"ff5b6fc2-9f19-4852-9bf6-4aa3499e4171\",\"type\":\"BasicTickFormatter\"},\"plot\":{\"id\":\"4be45bba-0a9a-4d83-97d7-80aa029767dd\",\"subtype\":\"Figure\",\"type\":\"Plot\"},\"ticker\":{\"id\":\"623b3171-50a0-4172-aa96-c50e6ccf2535\",\"type\":\"BasicTicker\"}},\"id\":\"5d001610-aee4-46a0-acc5-c67fea41825b\",\"type\":\"LinearAxis\"},{\"attributes\":{},\"id\":\"623b3171-50a0-4172-aa96-c50e6ccf2535\",\"type\":\"BasicTicker\"},{\"attributes\":{\"dimension\":1,\"plot\":{\"id\":\"4be45bba-0a9a-4d83-97d7-80aa029767dd\",\"subtype\":\"Figure\",\"type\":\"Plot\"},\"ticker\":{\"id\":\"623b3171-50a0-4172-aa96-c50e6ccf2535\",\"type\":\"BasicTicker\"}},\"id\":\"6e81c342-6976-4970-ab36-81d1728f1c38\",\"type\":\"Grid\"},{\"attributes\":{},\"id\":\"d57cc353-bd89-4188-b3fd-7afbf529ae05\",\"type\":\"LinearScale\"},{\"attributes\":{\"source\":{\"id\":\"40fd75dd-c6cb-46e9-a279-32ca65ade260\",\"type\":\"ColumnDataSource\"}},\"id\":\"3ded904d-393a-4e45-b3f2-288b515a0a3a\",\"type\":\"CDSView\"},{\"attributes\":{},\"id\":\"5cd3c057-21bc-4e9a-a317-bb4a7396b6fb\",\"type\":\"PanTool\"},{\"attributes\":{\"plot\":{\"id\":\"4be45bba-0a9a-4d83-97d7-80aa029767dd\",\"subtype\":\"Figure\",\"type\":\"Plot\"},\"source\":{\"id\":\"40fd75dd-c6cb-46e9-a279-32ca65ade260\",\"type\":\"ColumnDataSource\"},\"text\":{\"field\":\"names\"},\"text_align\":\"center\",\"text_color\":{\"value\":\"#555555\"},\"text_font_size\":{\"value\":\"8pt\"},\"x\":{\"field\":\"x1\"},\"y\":{\"field\":\"x2\"},\"y_offset\":{\"value\":6}},\"id\":\"f1904ad8-f79c-4149-a7c3-4e6110af2452\",\"type\":\"LabelSet\"},{\"attributes\":{\"below\":[{\"id\":\"dbfb0bcf-9fcb-40cd-b1d4-cf94163e9fbe\",\"type\":\"LinearAxis\"}],\"left\":[{\"id\":\"5d001610-aee4-46a0-acc5-c67fea41825b\",\"type\":\"LinearAxis\"}],\"renderers\":[{\"id\":\"dbfb0bcf-9fcb-40cd-b1d4-cf94163e9fbe\",\"type\":\"LinearAxis\"},{\"id\":\"a80f3abe-c39d-4732-b93d-6b0d40ae4ae3\",\"type\":\"Grid\"},{\"id\":\"5d001610-aee4-46a0-acc5-c67fea41825b\",\"type\":\"LinearAxis\"},{\"id\":\"6e81c342-6976-4970-ab36-81d1728f1c38\",\"type\":\"Grid\"},{\"id\":\"5aaf98e1-bd79-477e-97db-2ab60a3ffc6c\",\"type\":\"GlyphRenderer\"},{\"id\":\"f1904ad8-f79c-4149-a7c3-4e6110af2452\",\"type\":\"LabelSet\"}],\"title\":{\"id\":\"85a09ee4-baa2-4ce1-be7a-8d4acdcb4928\",\"type\":\"Title\"},\"toolbar\":{\"id\":\"e7977f4e-5fc6-43c9-a813-f67f32ccd58c\",\"type\":\"Toolbar\"},\"toolbar_location\":\"above\",\"x_range\":{\"id\":\"9c6516c9-02cd-42f6-8023-60d11ace47af\",\"type\":\"DataRange1d\"},\"x_scale\":{\"id\":\"d57cc353-bd89-4188-b3fd-7afbf529ae05\",\"type\":\"LinearScale\"},\"y_range\":{\"id\":\"a04b3af2-2920-4f50-b88f-33231d630c04\",\"type\":\"DataRange1d\"},\"y_scale\":{\"id\":\"8e759c8b-9b21-4e3c-92e7-7ec7b6d5919a\",\"type\":\"LinearScale\"}},\"id\":\"4be45bba-0a9a-4d83-97d7-80aa029767dd\",\"subtype\":\"Figure\",\"type\":\"Plot\"},{\"attributes\":{},\"id\":\"70ad6703-c58d-4c67-9dfc-ed7dafe32645\",\"type\":\"WheelZoomTool\"},{\"attributes\":{\"callback\":null,\"column_names\":[\"x1\",\"x2\",\"names\"],\"data\":{\"names\":[\"the\",\"of\",\"and\",\"in\",\"to\",\"a\",\"was\",\"s\",\"on\",\"as\",\"for\",\"that\",\"with\",\"by\",\"is\",\"his\",\"at\",\"he\",\"it\",\"from\",\"were\",\"an\",\"had\",\"which\",\"be\",\"this\",\"but\",\"are\",\"first\",\"not\",\"their\",\"after\",\"one\",\"her\",\"also\",\"its\",\"they\",\"two\",\"or\",\"have\",\"who\",\"been\",\"new\",\"has\",\"she\",\"when\",\"time\",\"during\",\"other\",\"would\",\"into\",\"all\",\"i\",\"more\",\"while\",\"over\",\"him\",\"game\",\"only\",\"later\",\"up\",\"about\",\"out\",\"most\",\"three\",\"between\",\"th\",\"than\",\"there\",\"some\",\"may\",\"film\",\"before\",\"year\",\"no\",\"made\",\"second\",\"season\",\"such\",\"where\",\"war\",\"world\",\"years\",\"both\",\"being\",\"used\",\"then\",\"these\",\"however\",\"song\",\"through\",\"them\",\"series\",\"against\",\"m\",\"album\",\"many\",\"city\",\"part\",\"became\",\"number\",\"north\",\"several\",\"team\",\"including\",\"can\",\"four\",\"united\",\"well\",\"early\",\"under\",\"music\",\"state\",\"day\",\"so\",\"south\",\"episode\",\"said\",\"following\",\"states\",\"although\",\"known\",\"could\",\"american\",\"did\",\"work\",\"began\",\"t\",\"until\",\"because\",\"released\",\"like\",\"called\",\"people\",\"high\",\"end\",\"british\",\"since\",\"around\",\"long\",\"national\",\"best\",\"if\",\"september\",\"found\",\"each\",\"million\",\"life\",\"west\",\"same\",\"another\",\"along\",\"show\",\"five\",\"back\",\"us\",\"took\",\"area\",\"off\",\"use\",\"final\",\"km\",\"any\",\"century\",\"received\",\"school\",\"you\",\"august\",\"group\",\"october\",\"will\",\"due\",\"line\",\"what\",\"john\",\"east\",\"government\",\"system\",\"single\",\"july\",\"march\",\"june\",\"home\",\"third\",\"games\",\"much\",\"general\",\"november\",\"april\",\"major\",\"based\",\"down\",\"set\",\"large\",\"company\",\"left\",\"york\",\"we\",\"place\",\"family\",\"played\",\"name\",\"january\",\"december\",\"history\",\"band\",\"just\",\"army\",\"house\",\"king\",\"now\",\"road\",\"six\",\"included\",\"character\",\"according\",\"led\",\"last\",\"wrote\",\"won\",\"death\",\"main\",\"within\",\"d\",\"own\",\"men\",\"those\",\"described\",\"de\",\"times\",\"st\",\"battle\",\"next\",\"river\",\"near\",\"air\",\"record\",\"named\",\"video\",\"great\",\"league\",\"release\",\"late\",\"still\",\"make\",\"very\",\"top\",\"production\",\"original\",\"route\",\"force\",\"ship\",\"species\",\"way\",\"club\",\"even\",\"man\",\"u\",\"february\",\"storm\",\"though\",\"public\",\"again\",\"small\",\"old\",\"days\",\"play\",\"built\",\"held\",\"german\",\"side\",\"further\",\"do\",\"having\",\"b\",\"among\",\"role\",\"university\",\"service\",\"white\",\"story\",\"members\",\"division\",\"book\",\"french\",\"power\",\"match\",\"often\",\"water\",\"order\",\"h\",\"point\",\"player\",\"former\",\"career\",\"park\",\"local\",\"despite\",\"continued\",\"town\",\"black\",\"without\",\"came\",\"half\",\"take\",\"considered\",\"support\",\"county\",\"c\",\"development\",\"party\",\"island\",\"english\",\"england\",\"different\",\"songs\",\"few\",\"version\",\"become\",\"written\",\"military\",\"form\",\"forces\",\"moved\",\"period\",\"lost\",\"country\",\"london\",\"president\",\"building\",\"given\",\"court\",\"tropical\",\"international\",\"ii\",\"little\",\"re\",\"my\",\"gave\",\"published\",\"attack\",\"street\",\"never\",\"went\",\"returned\",\"using\",\"performance\",\"n\",\"royal\",\"similar\",\"produced\",\"lead\",\"church\",\"position\",\"television\",\"tour\",\"short\",\"stated\",\"class\",\"land\",\"ships\",\"track\",\"western\",\"highway\",\"run\",\"children\",\"control\",\"right\",\"live\",\"total\",\"how\",\"aircraft\",\"recorded\",\"throughout\",\"include\",\"good\",\"per\",\"love\",\"week\",\"father\",\"fire\",\"making\",\"star\",\"women\",\"upon\",\"himself\",\"head\",\"me\",\"design\",\"once\",\"characters\",\"age\",\"less\",\"australia\",\"writing\",\"title\",\"instead\",\"central\",\"light\",\"remained\",\"night\",\"died\",\"players\",\"across\",\"red\",\"months\",\"developed\",\"political\",\"ft\",\"low\",\"young\",\"southern\",\"ten\",\"r\",\"seven\",\"sea\",\"station\",\"away\",\"law\",\"previous\",\"result\",\"noted\",\"rock\",\"eight\",\"hurricane\",\"james\",\"eventually\",\"should\",\"return\",\"various\",\"e\",\"reported\",\"style\",\"seen\",\"areas\",\"announced\",\"win\",\"sent\",\"william\",\"race\",\"field\",\"reached\",\"center\",\"felt\",\"miles\",\"son\",\"too\",\"office\",\"performed\",\"created\",\"together\",\"construction\",\"america\",\"college\",\"served\",\"japanese\",\"award\",\"range\",\"act\",\"followed\",\"northern\",\"member\",\"full\",\"taken\",\"killed\",\"success\",\"born\",\"campaign\",\"mm\",\"able\",\"appeared\",\"common\",\"chart\",\"established\",\"action\",\"level\",\"post\",\"works\",\"body\",\"located\",\"points\",\"front\",\"playing\",\"critics\",\"rather\",\"george\",\"modern\",\"others\",\"originally\",\"thought\",\"started\",\"addition\",\"features\",\"f\",\"special\",\"stage\",\"get\",\"football\",\"project\",\"o\",\"australian\",\"bridge\",\"feet\",\"caused\",\"decided\",\"heavy\",\"saw\",\"added\",\"formed\",\"fourth\",\"damage\",\"behind\",\"present\",\"sold\",\"site\",\"popular\",\"command\",\"awards\",\"championship\",\"strong\",\"director\",\"population\",\"every\",\"eastern\",\"case\",\"go\",\"initially\",\"important\",\"france\",\"see\",\"close\",\"almost\",\"soon\",\"david\",\"free\",\"non\",\"working\",\"guns\",\"completed\",\"ground\",\"kingdom\",\"art\",\"leading\",\"hall\",\"open\",\"fleet\",\"mother\",\"recording\",\"opened\",\"region\",\"weeks\",\"union\",\"worked\",\"event\",\"l\",\"michael\",\"ever\",\"towards\",\"least\",\"studio\",\"help\",\"coast\",\"scene\",\"records\",\"henry\",\"either\",\"generally\",\"mi\",\"sound\",\"scored\",\"provided\",\"victory\",\"average\",\"training\",\"brought\",\"navy\",\"troops\",\"cup\",\"far\",\"co\",\"put\",\"wife\",\"does\",\"hit\",\"magazine\",\"wanted\",\"placed\",\"featured\",\"list\",\"hours\",\"europe\",\"allowed\",\"human\",\"mid\",\"joined\",\"events\",\"summer\",\"robert\",\"runs\",\"base\",\"washington\",\"council\",\"example\",\"official\",\"start\",\"squadron\",\"media\",\"designed\",\"successful\",\"believed\",\"nine\",\"opening\",\"brown\",\"replaced\",\"review\",\"big\",\"rest\",\"particularly\",\"beginning\",\"operation\",\"earlier\",\"films\",\"possible\",\"society\",\"involved\",\"al\",\"shot\",\"finished\",\"forced\",\"x\",\"european\",\"highest\",\"radio\",\"minutes\",\"month\",\"significant\",\"met\",\"test\",\"japan\",\"association\",\"largest\",\"police\",\"mph\",\"saying\",\"ended\",\"increased\",\"crew\",\"units\",\"captain\",\"research\",\"change\",\"taking\",\"better\",\"turned\",\"additional\",\"passed\",\"reviews\",\"available\",\"san\",\"come\",\"process\",\"section\",\"relationship\",\"social\",\"must\",\"lower\",\"community\",\"going\",\"praised\",\"move\",\"cast\",\"above\",\"goal\",\"canada\",\"real\",\"ordered\",\"middle\",\"chief\",\"space\",\"outside\",\"signed\",\"appearance\",\"future\",\"positive\",\"staff\",\"business\",\"interest\",\"rights\",\"thus\",\"spent\",\"hill\",\"stone\",\"thomas\",\"winds\",\"charles\",\"previously\",\"don\",\"elements\",\"told\",\"castle\",\"overall\",\"program\",\"g\",\"gun\",\"enough\",\"type\",\"cross\",\"parts\",\"paul\",\"female\",\"lake\",\"infantry\",\"give\",\"committee\",\"board\",\"news\",\"directed\",\"round\",\"find\",\"critical\",\"money\",\"india\",\"attempt\",\"plan\",\"claimed\",\"gold\",\"brother\",\"california\",\"term\",\"groups\",\"musical\",\"square\",\"lines\",\"study\",\"v\",\"introduced\",\"hand\",\"asked\",\"germany\",\"prior\",\"election\",\"itself\",\"entire\",\"reception\",\"already\",\"evidence\",\"personal\",\"required\",\"turn\",\"usually\",\"score\",\"room\",\"complete\",\"background\",\"district\",\"port\",\"battalion\",\"sometimes\",\"press\",\"uk\",\"failed\",\"our\",\"past\",\"plot\",\"loss\",\"grand\",\"speed\",\"issue\",\"students\",\"novel\",\"governor\",\"whose\",\"debut\",\"quickly\",\"whom\",\"person\",\"p\",\"shows\",\"indian\",\"commander\",\"idea\",\"length\",\"material\",\"bill\",\"fifth\",\"la\",\"cover\",\"episodes\",\"limited\",\"britain\",\"food\",\"services\",\"k\",\"effects\",\"response\",\"education\",\"surface\",\"science\",\"nearly\",\"flight\",\"industry\",\"movement\",\"smith\",\"peter\",\"los\",\"decision\",\"anti\",\"especially\",\"carried\",\"queen\",\"minister\",\"green\",\"arrived\",\"bay\",\"god\",\"larger\",\"stars\",\"blue\",\"richard\",\"estimated\",\"becoming\",\"suggested\",\"latter\",\"defeated\",\"woman\",\"structure\",\"centre\",\"department\",\"living\",\"teams\",\"village\",\"remaining\",\"entered\",\"islands\",\"car\",\"pressure\",\"commercial\",\"running\",\"civil\",\"empire\",\"might\",\"approximately\",\"leaving\",\"child\",\"naval\",\"today\",\"earth\",\"report\",\"self\",\"pop\",\"operations\",\"virginia\",\"changes\",\"writer\",\"voice\",\"course\",\"fans\",\"appointed\",\"scenes\",\"cut\",\"network\",\"proposed\",\"influence\",\"ny\",\"producer\",\"depression\",\"shortly\",\"view\",\"mark\",\"higher\",\"subsequently\",\"intended\",\"wide\",\"language\",\"face\",\"nd\",\"current\",\"brigade\",\"experience\",\"winning\",\"destroyed\",\"fact\",\"supported\",\"lack\",\"provide\",\"helped\",\"soldiers\",\"spanish\",\"longer\",\"dark\",\"captured\",\"tracks\",\"whether\",\"countries\",\"date\",\"hot\",\"regular\",\"create\",\"finally\",\"married\",\"related\",\"jackson\",\"immediately\",\"nature\",\"percent\",\"contract\",\"health\",\"planned\",\"compared\",\"soviet\",\"mostly\",\"railway\",\"leader\",\"daughter\",\"changed\",\"initial\",\"agreed\",\"ball\",\"plans\",\"done\",\"friends\",\"federal\",\"effect\",\"awarded\",\"feature\",\"edward\",\"chicago\",\"upper\",\"officers\",\"johnson\",\"appear\",\"trade\",\"size\",\"probably\",\"chinese\",\"yet\",\"professional\",\"books\",\"natural\",\"fort\",\"cost\",\"guitar\",\"location\",\"really\",\"singles\",\"your\",\"moving\",\"museum\",\"issued\",\"got\",\"regiment\",\"manager\",\"something\",\"private\",\"themselves\",\"associated\",\"friend\",\"fight\",\"corps\",\"atlantic\",\"mixed\",\"buildings\",\"lyrics\",\"pass\",\"conference\",\"extended\",\"minor\",\"energy\",\"poor\",\"billboard\",\"singer\",\"dance\",\"cm\",\"pacific\",\"officer\",\"information\",\"lord\",\"key\",\"cause\",\"increase\",\"always\",\"difficult\",\"j\",\"independent\",\"numerous\",\"remains\",\"forward\",\"ranked\",\"copies\",\"christian\",\"tons\",\"includes\",\"via\",\"know\",\"pre\",\"jack\",\"roman\",\"ran\",\"texas\",\"daily\"],\"x1\":{\"__ndarray__\":\"qs8lwbaFMsFzxUjBWfOMwYQaqEAt7/XBCncawkjsRcFq/IXBs0rLwNigRMFApbrBseBJwfvMbMHUihrCAODOwYcHQEEU3uTBTznSwcaGd8E1CSPCaeUAwtcPIsJQFrjBTxNvwdTT0sGHHc3BOAIjwtNU/cE++pTB6bTPwThP+MGCC5jBZz3QwZFag8EMbdLBBRX+weEQaMH2sSjB8mklwm6dEMLSEW/B3I7gwPNXJcJP+OTBHCurwdsw8cCWUJ7BsBUuwUvkV7/VZZvBa6YdwXbxAsK4ob3AA7lRwXQQq8FE5LnBI8zQQbJrpcFoN5zBnFLBwZ00i8H+q8nBcYejwHLCb8EfBnrB86QQwmLnjsGsMKfB4RlMwTAjjMBYHShB9Bz4wU5eqsHj+ujBni2xwQPN+sHJ/AhBdbwNwoqAscEGowZCkkm3QbSzlMGYjirB7TNtwYHXHcEYXIvBvKdGwVP5xMFY9qRA5mKWwbN7u8Hl6wdBGNoBQpfB70GYUrNALP5OwSt6pkH8lGLAXSvGwdy3mcFvyKJBISNQwfEDyUF7M5DAz6kiwOCdd8F6xK5BGUsNwhKpJsEo4JvBexXJQOsDtEFvm6vBBcm3wZeSokEm4iBBecGiwd4R9cGgRCZC707Gwf5tVMFYUFm/eiDgQZ8RQsAH8fhATEUZwZLIv0FtuLjBt37JwUotDj8B9JvB7elMwRebFULewATAmWDlwCZ9+EEvaa7BF7yawalhKMG+z69BtyX1wTacxsEnHfvBZ5KDwUDr5sE6RpTBK9WwP/NpqUEsTtLBfYH3weMLpcG+Lg5BaNyAwWhnvsGe2J9BfA6QweTMmEHRU8DB67rHwNk98sGzfzdBTIHoweJs2kG29T7BMMeMQbrY/sFc0/XBxzWKQUBh/MFZNijA/0EtwMPK+UFZCLzBAD6LQc0GqkH9zrRBnberQLnr5L9MJu7Bj8DuwVdY88Fd6p3ASu/1wRW50EHQOQDCF44CQgls9cGdPenBkvHHv6uB50B2hMPBSImswNWtoMBheW5BUVMPwfhngEH37P/BVIrfwNapREFpd4S+2ZK2QRiQ9sEzLu/B5KFcQO3u00DouafBuyMsQkk7nkHYy5xBUo+hwAAR6kF2SnzBEt4tv80fskCMVqnBSpLnwAjI+MFtnrLBNFiaQX/7RkGPmz7B0/eQwbp/7UF3LUfAfVQbQhkuPMHFU3LB1aXhQXvNLEHJ/xLC0Rp2QS5w+cHqx8lBTmBRQdySFUKwZpu+KPlOwfXjg0BhAezBNnDMQfrslkHRyR7BMQyewV9SpsE+grDBv3L1weqYC0HtB/rAyFzzQbMDK0JhpR1CBeKBQVuCS8H3JsBBRQeVwSNzAkE1NKRBrBTpwaDrNkHz/cfBq/t2QfBEl8F1I6HAPycTwgGikcFEnjs/hRjcwP5qYsHvLPhBlNRdwTxeTsGCcIzBoswhwo+E90ETIdnA8ZJyQN/Lk0FB7gJCv7NXwbmN3EAJ/CBCXF0xQmBLBEFifvNBE96TQEWYn0GLCR/BNSICwQh6wj8nZ9pBD33wwCt22UFJKYNBcVjgQZoDyEFTHodB1ixgwNEsIsFg7atBZahewXjaXMEeuVbBck6KwbeNlcEZ8nnBYyaSwWMNlEEUD/dBTVkOQVfedkE6c61BUErwQeyH1EHy0xTBQ+WDQK1YXMH5KAm/I1PJwTd2xb/EhAhClg1RQL/jJ0KmtjHBJxbBwKYC2sBXwLhBGUGRQfdmBkITc6lBCNlTwYiMZEE+CkFBfXKxQYnk2EFm9+nBdu0ZQRxq6cGMVDLBa7bPv4b+IUI+E+JBOumOwXPPT8FS0STBxxzMwBmoHUBlCeNBEvAFQuyXoT9S6eG/d9/pwJ1bwUHuvelBt8sTQaldSz8iUCjBP4Wewa+fsEEAC6NB7cQeQoZ6YUB/n5lBhhX3QZCuFcFOrRZCw3iSQBjkKsGXSCE/P3KYwZAnvcFqShpCGcDiv35qmcFTuXbAz87kwdGls8F2+shAmAmmwa2dYkE8KShCqza0waLd/sGlshhC8iSFwanMuMGsD0fBVBn2wS8GAUHnN4/BzOWzQIwLGMGnwsDAJADXQWYVvsE4IbZBQ1hxwXfIkEGC5fe/RqHbQA3Cq8FDQlJBjzTYQUIZnsH1kFbBczqVwRz0CMFU2FRBGwWGQNBqBsCNoQ1BsDCcQYtAh8HBqvBBoz6Ewe5mzEHUeN5BZDy7waWtcEGxbQ/Cnhurv+Zjo8HHwIhAUTKGwbhcP0F3oYJBWAeHwRChNMDEEWPBOxU/wVur6EE0DpDBTdp8P5KHTcEf+ZNBZtCSwRJGn0EOYGTBevSTQT6Pg0HWsddBIlLwwHh5t0GwA6nBFOA5QXE0eUF4HbbBWtpxQTlX4L+c1xLB0fa0wTBEoUGQSNRBVjqQQRVLBkBedf1BHfLVQabugEDjHoRB58QGwTnsnkG07yBCddUgwauFiMGovX7AwGygQDHwbEE8XVtBpbcOQL5/EsF9cvq/5emTPyTBnsGM5P7AcxZYQfugtUA+RVFBlZIDQec1lj8fOJfAomGHQRCTX8FyWSI/447SQDfK3sDsj4tBBoAZwAiRNsGReGzBUZ2GwQL8DsGhjW2/c5vSv+Cg+0EIrBDB6eRgQQntgsGTV8BBXzgjQRAf1EF95+JB/OPmQbrpiEDbH9LA9LPTwEnvIsAj5R7Bth5owd979cDwSPfBrUmDQEuepsEIjD/AVNpowGSywUEbwx5AmuURQv8E1kFQca5B5KmmwDe7I0FUgo1BfernwZSUn0HFMVJBLF16wQQ9dcHvkMA/UjLHQRp4i8EYucHAJC+UwVcmkcGlIG9BubUawdGEDsGJqEhA04QsQhFoFcFsONhBkDwmQj4ZG0GDshDAetOkQapyg8EhFCNCJ0FaQeja8z9btQ/ByyKXQYDDlsGlA79BIB03QFuPd0EZQeNBPa9eQZPyh8E0PZDB9F2mwbPD0T+frZTBZ162QbbHnECczp2+nDGSQSOnNMF35ArBNxA5Qf2xbUDcAAbAZ+ImwVTlnkH6DqbBvtUKQiCyacFCkxFCcd8kQkdYrUEC5AHCVYV7Qc1ycsEYQmVBTIhCwJ5E1sC+XxJBzi6twKfseMHHJzO/ZaKJwCSwjcEAM8NB7xELwSwiw7+u8BjBEqi4wPaSdEFKwvrADG18QZm9BsFx0N5BR81oQeaaukGU1wo/Nr2eQW6a+sCB1SZC5oc0QbnEBcE+b1pAo5WJwWXVicEjYeTBIAlNweUzA8EzwQRBb3yPwf7dX8EmLrTA4Jn+wAyqEkIJJRLCMgcoQQPfqEGDw5hB6faQP/qSwEEYZfPAfM7wwDImG8F9S/xBuQy4QROd3MF/Cx9BSjSJwT4XqMFpDt+/p6mywPwj5UGjK8BBDDmfQZe12sGKOBJCXYUzQdlnrsEuSwTBLzAEP42qFkJKqiJC6hEPQglIJEGNO3rAyWSTwTdv4cD491vBfBJDwfLRScGFMsVAeC0VwMAlV0GkhXHBRObXQARN8EHzVUBBWY1UQUMhSMD7lC/AoW6VQUStZsF1baTBV7BKweGQy0BLcGm/+LGEQS61skGhDYTAqtcowRxjCsFFNQdCfvvWQEeelsF9rqHApqniPwL6usAASIFA9fYSQi8/g0F8pvs/ptiLQenhFcHHj7dAPTS+QUzShMEWWoVBCr80Qa6VjkHKdXfBnEVVQf7DZECMmprBEPuyQQPkx8BhiidB3sbqQVHOK0IKwbjBAWUXQG57L8F6aFlAIGtxQfBGDkGEZ8NBn+koQtwdosGu2L5B/+vEQZdpMUE2bZK+3pOUQUDykMGbqopAFVGfwb0Ey0HFwbg/wDk0QZndksGTe2fBVNJ5QbFea0HVa85AWaSLQVr4vUBr6I5Bgdv8QehPI0H9xuBBskIXwXDaM8GpBLrAbdXBQYy068Hn1HFBJuQMwUdSX8G94qxAPvaAwaVFJjxRYzbATQYNwWk5P8EsQB/BX6WAQXyGREEtVR3BuAfePgoBmEH+KrxBpFwsQgcsH8E30yxBccKrQavq2cCOAuPBbw++wD6uzkB3PV1AtF6bQZlKqUB7WFBBb8SPQdOsAEGRvQVCJ0hIwZYh48G+XYjBYpcQwko5DUGqSu5Bmzwfvc9H5kFnBQ9CA9ZvQME3GkDZxdA/gWiBQUk19cGihuJBlRUcv7VDIEFYUhfAwj/MQR+1BcEfTQJCQ7npQXrsfj+Qzky/QMCHQXKBVkBixCVBXvaSwR0EGEKD8JBBBY94QdvkTkGDd2FBappRQb3LPkFqEO9Bbi21wHqYd8EoVppBBF8DQnAeRcHh8a3AKq27QWNv4sF0sJDAnNT+wVqpTcGjRINBYtyrwbptxcH0c5HBJi4AwfCTosA2kQ5B5HxdQADlt0G7+cNBmC+eQCdazUEanbFBjn9ewS2j5sBgs6xBoeFEQfRwvEAf+ohB6dMWwbhOAkJnRNJBxjpfwKfVncEywxLBZoQcQUQ5DEJFp5fAzL9PQFMKHUHtovW/D/mkQGTXEUJWBnhBovJ0wOUXO0FvM/0/O8LBwL6k5EFga77AP+WcQOR+C8Gm1RdBIqAlwSd5EkA5kvRBobQnQSBgL0Fc/pnBRJ+2vvJaaEHE11zA2/aEwXXkAsH6UqTAmpT2QXvGRsHkURHCxxDJwBiwLUJW/o8/g/eaQUL1mcDVoqu/RXoWwTZYk8AZGKTBF2+7wIHFHUIyQetBthnawKD2PcHhD5HAotxhQLdYyMFt+cFBnXCjwGkPosGIcxXB5yClwXsmjsF+N2ZBC0pQP5bgO0HNNJPB5UhTvxHWm8EplUJBo3R/QTHNAsF+OKHBqrT2QYWNBcHenOFBOEsMQh1qbEFgGknBn682wUrIzMA0VmtBeEc1QZZOSsEIdlxBz0S1QfvVtD/9x0/By8qqv2xslEEOMnVBzez1v/g5GkLoA1NBwAx0wQtInEHmYgVAq3fZwKGC6UGRhvzAShy8Qf5tB0FJZtm/PQ+6QTf5gb9SaaFA9NvCQadEqcEgTZjBCyvpweTLMMHAQL9BYSUzwcyYZcEjCC1CyddYQUJvrMGm+YJBmwa9wZGaoT+i/WRBQ85LwUofMkKxLsRBmKljQPd3q0EVu3NAu9AhwR6uy0FOwDPBRuqgvwhco0CcU5LAjx6ewSffAkHI3qVAH5QSQHK4w0GBjQtClNQuP1C1nUFfJKi/IH+cv5xWGT8JyqLBKoWrQecb40H7PJ5BLdJFwSuRq8AqgbPB/CqEwTO4nUFzhdtBilNqP+9CLcAsRYPBu2qMwRysJsEIF1FB3nraQZC4RcHNM3VBmQw1QQ==\",\"dtype\":\"float32\",\"shape\":[1000]},\"x2\":{\"__ndarray__\":\"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\",\"dtype\":\"float32\",\"shape\":[1000]}}},\"id\":\"40fd75dd-c6cb-46e9-a279-32ca65ade260\",\"type\":\"ColumnDataSource\"},{\"attributes\":{},\"id\":\"5c6f6d7f-cb15-4038-9483-9263584e313a\",\"type\":\"ResetTool\"},{\"attributes\":{\"fill_color\":{\"value\":\"#1f77b4\"},\"line_color\":{\"value\":\"#1f77b4\"},\"size\":{\"units\":\"screen\",\"value\":8},\"x\":{\"field\":\"x1\"},\"y\":{\"field\":\"x2\"}},\"id\":\"a30e832a-42ae-4fbd-aaeb-a6e042567e70\",\"type\":\"Circle\"},{\"attributes\":{\"callback\":null},\"id\":\"9c6516c9-02cd-42f6-8023-60d11ace47af\",\"type\":\"DataRange1d\"},{\"attributes\":{},\"id\":\"ac578b28-3d62-470e-bf0d-85be31b0b3b6\",\"type\":\"SaveTool\"},{\"attributes\":{\"plot\":null,\"text\":\"word2vec T-SNE for most common words\"},\"id\":\"85a09ee4-baa2-4ce1-be7a-8d4acdcb4928\",\"type\":\"Title\"},{\"attributes\":{\"callback\":null},\"id\":\"a04b3af2-2920-4f50-b88f-33231d630c04\",\"type\":\"DataRange1d\"},{\"attributes\":{\"data_source\":{\"id\":\"40fd75dd-c6cb-46e9-a279-32ca65ade260\",\"type\":\"ColumnDataSource\"},\"glyph\":{\"id\":\"a30e832a-42ae-4fbd-aaeb-a6e042567e70\",\"type\":\"Circle\"},\"hover_glyph\":null,\"muted_glyph\":null,\"nonselection_glyph\":{\"id\":\"940e9bac-a838-4e71-b885-46c7c75d5846\",\"type\":\"Circle\"},\"selection_glyph\":null,\"view\":{\"id\":\"3ded904d-393a-4e45-b3f2-288b515a0a3a\",\"type\":\"CDSView\"}},\"id\":\"5aaf98e1-bd79-477e-97db-2ab60a3ffc6c\",\"type\":\"GlyphRenderer\"},{\"attributes\":{\"fill_alpha\":{\"value\":0.1},\"fill_color\":{\"value\":\"#1f77b4\"},\"line_alpha\":{\"value\":0.1},\"line_color\":{\"value\":\"#1f77b4\"},\"size\":{\"units\":\"screen\",\"value\":8},\"x\":{\"field\":\"x1\"},\"y\":{\"field\":\"x2\"}},\"id\":\"940e9bac-a838-4e71-b885-46c7c75d5846\",\"type\":\"Circle\"},{\"attributes\":{\"active_drag\":\"auto\",\"active_inspect\":\"auto\",\"active_scroll\":\"auto\",\"active_tap\":\"auto\",\"tools\":[{\"id\":\"5cd3c057-21bc-4e9a-a317-bb4a7396b6fb\",\"type\":\"PanTool\"},{\"id\":\"70ad6703-c58d-4c67-9dfc-ed7dafe32645\",\"type\":\"WheelZoomTool\"},{\"id\":\"5c6f6d7f-cb15-4038-9483-9263584e313a\",\"type\":\"ResetTool\"},{\"id\":\"ac578b28-3d62-470e-bf0d-85be31b0b3b6\",\"type\":\"SaveTool\"}]},\"id\":\"e7977f4e-5fc6-43c9-a813-f67f32ccd58c\",\"type\":\"Toolbar\"},{\"attributes\":{},\"id\":\"3f682aaa-b1c4-4e80-99b0-b1894c42191c\",\"type\":\"BasicTickFormatter\"},{\"attributes\":{\"plot\":{\"id\":\"4be45bba-0a9a-4d83-97d7-80aa029767dd\",\"subtype\":\"Figure\",\"type\":\"Plot\"},\"ticker\":{\"id\":\"a35a99c4-71d2-47ce-9da5-ecafb5cae54b\",\"type\":\"BasicTicker\"}},\"id\":\"a80f3abe-c39d-4732-b93d-6b0d40ae4ae3\",\"type\":\"Grid\"},{\"attributes\":{},\"id\":\"ff5b6fc2-9f19-4852-9bf6-4aa3499e4171\",\"type\":\"BasicTickFormatter\"},{\"attributes\":{},\"id\":\"a35a99c4-71d2-47ce-9da5-ecafb5cae54b\",\"type\":\"BasicTicker\"},{\"attributes\":{\"formatter\":{\"id\":\"3f682aaa-b1c4-4e80-99b0-b1894c42191c\",\"type\":\"BasicTickFormatter\"},\"plot\":{\"id\":\"4be45bba-0a9a-4d83-97d7-80aa029767dd\",\"subtype\":\"Figure\",\"type\":\"Plot\"},\"ticker\":{\"id\":\"a35a99c4-71d2-47ce-9da5-ecafb5cae54b\",\"type\":\"BasicTicker\"}},\"id\":\"dbfb0bcf-9fcb-40cd-b1d4-cf94163e9fbe\",\"type\":\"LinearAxis\"},{\"attributes\":{},\"id\":\"8e759c8b-9b21-4e3c-92e7-7ec7b6d5919a\",\"type\":\"LinearScale\"}],\"root_ids\":[\"4be45bba-0a9a-4d83-97d7-80aa029767dd\"]},\"title\":\"Bokeh Application\",\"version\":\"0.12.10\"}};\n",
       "    var render_items = [{\"docid\":\"4cc68b8e-8e23-4089-b3ce-dcee1093ebff\",\"elementid\":\"a331817f-fc79-447f-a13f-810927515ec3\",\"modelid\":\"4be45bba-0a9a-4d83-97d7-80aa029767dd\"}];\n",
       "\n",
       "    root.Bokeh.embed.embed_items(docs_json, render_items);\n",
       "  }\n",
       "\n",
       "  if (root.Bokeh !== undefined) {\n",
       "    embed_document(root);\n",
       "  } else {\n",
       "    var attempts = 0;\n",
       "    var timer = setInterval(function(root) {\n",
       "      if (root.Bokeh !== undefined) {\n",
       "        embed_document(root);\n",
       "        clearInterval(timer);\n",
       "      }\n",
       "      attempts++;\n",
       "      if (attempts > 100) {\n",
       "        console.log(\"Bokeh: ERROR: Unable to embed document because BokehJS library is missing\")\n",
       "        clearInterval(timer);\n",
       "      }\n",
       "    }, 10, root)\n",
       "  }\n",
       "})(window);"
      ],
      "application/vnd.bokehjs_exec.v0+json": ""
     },
     "metadata": {
      "application/vnd.bokehjs_exec.v0+json": {
       "id": "4be45bba-0a9a-4d83-97d7-80aa029767dd"
      }
     },
     "output_type": "display_data"
    }
   ],
   "source": [
    "p = figure(tools=\"pan,wheel_zoom,reset,save\",\n",
    "           toolbar_location=\"above\",\n",
    "           title=\"word2vec T-SNE for most common words\")\n",
    "\n",
    "source = ColumnDataSource(data=dict(x1=words_top_wiki_tsne[:,0],\n",
    "                                    x2=words_top_wiki_tsne[:,1],\n",
    "                                    names=words_top_wiki))\n",
    "\n",
    "p.scatter(x=\"x1\", y=\"x2\", size=8, source=source)\n",
    "\n",
    "labels = LabelSet(x=\"x1\", y=\"x2\", text=\"names\", y_offset=6,\n",
    "                  text_font_size=\"8pt\", text_color=\"#555555\",\n",
    "                  source=source, text_align='center')\n",
    "p.add_layout(labels)\n",
    "\n",
    "show(p)"
   ]
  }
 ],
 "metadata": {
  "anaconda-cloud": {},
  "kernelspec": {
   "display_name": "Python 3",
   "language": "python",
   "name": "python3"
  },
  "language_info": {
   "codemirror_mode": {
    "name": "ipython",
    "version": 3
   },
   "file_extension": ".py",
   "mimetype": "text/x-python",
   "name": "python",
   "nbconvert_exporter": "python",
   "pygments_lexer": "ipython3",
   "version": "3.6.3"
  }
 },
 "nbformat": 4,
 "nbformat_minor": 1
}
