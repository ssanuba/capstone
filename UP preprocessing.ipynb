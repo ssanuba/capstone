{
 "cells": [
  {
   "cell_type": "code",
   "execution_count": 175,
   "metadata": {},
   "outputs": [],
   "source": [
    "import pandas as pd\n",
    "import re\n",
    "\n",
    "file= open(\"upscript.txt\",\"r\")\n",
    "script= file.read()\n",
    "lines= script.split(\"<b>\")\n",
    "line_data_set= []\n",
    "cols= [\"Speaker\",\"Content\"]\n",
    "\n",
    "for line in lines :\n",
    "    \n",
    "    if(line.find(\"</b>\")==-1) : continue\n",
    "    tline= line.split(\"</b>\")\n",
    "    \n",
    "    line_data = []\n",
    "    speaker= tline[0].strip()\n",
    "    line_data.append(speaker)\n",
    "    \n",
    "    if(len(tline)>1): right= tline[1]\n",
    "    \n",
    "    if(speaker in \"CARL\" or speaker in \"RUSSELL\") :\n",
    "        right = right[:right.find(\"\\n\\n\")]\n",
    "        rightlist = right.split(\"\\n\")\n",
    "        content = \"\"\n",
    "\n",
    "        for temp in rightlist : \n",
    "            content += \" \" + temp.strip()\n",
    "        content= content.strip()\n",
    "\n",
    "        if(speaker == \"\" or content == \"\"): continue\n",
    "\n",
    "        line_data.append(content) \n",
    "        line_data_set.append(line_data)\n",
    "\n",
    "#print(line_data_set)\n",
    "    \n",
    "df= pd.DataFrame(data=line_data_set,columns=cols)\n",
    "df.to_csv(\"C:/Capstone/Up_script_CarlNRussell.csv\",index=False)\n",
    "        \n",
    "file.close()"
   ]
  },
  {
   "cell_type": "code",
   "execution_count": 104,
   "metadata": {},
   "outputs": [
    {
     "name": "stdout",
     "output_type": "stream",
     "text": [
      "4\n"
     ]
    }
   ],
   "source": [
    "test= \"abbb\\naaa\"\n",
    "print(test.find(\"\\n\"))\n"
   ]
  },
  {
   "cell_type": "code",
   "execution_count": 132,
   "metadata": {},
   "outputs": [
    {
     "data": {
      "text/plain": [
       "True"
      ]
     },
     "execution_count": 132,
     "metadata": {},
     "output_type": "execute_result"
    }
   ],
   "source": [
    "'123'.isdigit()"
   ]
  }
 ],
 "metadata": {
  "kernelspec": {
   "display_name": "Python 3",
   "language": "python",
   "name": "python3"
  },
  "language_info": {
   "codemirror_mode": {
    "name": "ipython",
    "version": 3
   },
   "file_extension": ".py",
   "mimetype": "text/x-python",
   "name": "python",
   "nbconvert_exporter": "python",
   "pygments_lexer": "ipython3",
   "version": "3.6.3"
  }
 },
 "nbformat": 4,
 "nbformat_minor": 2
}
